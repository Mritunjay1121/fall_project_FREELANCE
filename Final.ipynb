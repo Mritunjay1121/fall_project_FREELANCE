{
 "cells": [
  {
   "cell_type": "code",
   "execution_count": 535,
   "id": "10a02f40",
   "metadata": {},
   "outputs": [],
   "source": [
    "import pandas as pd\n",
    "import numpy as np"
   ]
  },
  {
   "cell_type": "code",
   "execution_count": 639,
   "id": "affcbbe4",
   "metadata": {},
   "outputs": [],
   "source": [
    "df=pd.read_excel(\"Data1P_05_105_06_106.xlsx\")"
   ]
  },
  {
   "cell_type": "code",
   "execution_count": 640,
   "id": "34c47a25",
   "metadata": {},
   "outputs": [
    {
     "data": {
      "text/html": [
       "<div>\n",
       "<style scoped>\n",
       "    .dataframe tbody tr th:only-of-type {\n",
       "        vertical-align: middle;\n",
       "    }\n",
       "\n",
       "    .dataframe tbody tr th {\n",
       "        vertical-align: top;\n",
       "    }\n",
       "\n",
       "    .dataframe thead th {\n",
       "        text-align: right;\n",
       "    }\n",
       "</style>\n",
       "<table border=\"1\" class=\"dataframe\">\n",
       "  <thead>\n",
       "    <tr style=\"text-align: right;\">\n",
       "      <th></th>\n",
       "      <th>Unnamed: 0</th>\n",
       "      <th>Select any number and color the entire column</th>\n",
       "      <th>Unnamed: 2</th>\n",
       "      <th>Unnamed: 3</th>\n",
       "      <th>Unnamed: 4</th>\n",
       "      <th>Unnamed: 5</th>\n",
       "      <th>Unnamed: 6</th>\n",
       "      <th>Unnamed: 7</th>\n",
       "      <th>Unnamed: 8</th>\n",
       "      <th>Unnamed: 9</th>\n",
       "      <th>...</th>\n",
       "      <th>Unnamed: 71</th>\n",
       "      <th>Unnamed: 72</th>\n",
       "      <th>Unnamed: 73</th>\n",
       "      <th>Unnamed: 74</th>\n",
       "      <th>Unnamed: 75</th>\n",
       "      <th>Unnamed: 76</th>\n",
       "      <th>Unnamed: 77</th>\n",
       "      <th>Unnamed: 78</th>\n",
       "      <th>Unnamed: 79</th>\n",
       "      <th>Unnamed: 80</th>\n",
       "    </tr>\n",
       "  </thead>\n",
       "  <tbody>\n",
       "    <tr>\n",
       "      <th>0</th>\n",
       "      <td>NaN</td>\n",
       "      <td>What is your height in inches?</td>\n",
       "      <td>NaN</td>\n",
       "      <td>NaN</td>\n",
       "      <td>64.0</td>\n",
       "      <td>70.0</td>\n",
       "      <td>70</td>\n",
       "      <td>69</td>\n",
       "      <td>61.0</td>\n",
       "      <td>63.5</td>\n",
       "      <td>...</td>\n",
       "      <td>73</td>\n",
       "      <td>70</td>\n",
       "      <td>175</td>\n",
       "      <td>69</td>\n",
       "      <td>70</td>\n",
       "      <td>64.00</td>\n",
       "      <td>70.00</td>\n",
       "      <td>67.20</td>\n",
       "      <td>72.000</td>\n",
       "      <td>69.0</td>\n",
       "    </tr>\n",
       "    <tr>\n",
       "      <th>1</th>\n",
       "      <td>NaN</td>\n",
       "      <td>What is your weight in pounds?</td>\n",
       "      <td>NaN</td>\n",
       "      <td>NaN</td>\n",
       "      <td>124.0</td>\n",
       "      <td>211.6</td>\n",
       "      <td>200</td>\n",
       "      <td>124</td>\n",
       "      <td>134.5</td>\n",
       "      <td>123.6</td>\n",
       "      <td>...</td>\n",
       "      <td>165</td>\n",
       "      <td>198</td>\n",
       "      <td>128</td>\n",
       "      <td>160</td>\n",
       "      <td>160</td>\n",
       "      <td>121.25</td>\n",
       "      <td>158.73</td>\n",
       "      <td>125.66</td>\n",
       "      <td>160.937</td>\n",
       "      <td>156.0</td>\n",
       "    </tr>\n",
       "    <tr>\n",
       "      <th>2</th>\n",
       "      <td>NaN</td>\n",
       "      <td>What is your age in # of months?</td>\n",
       "      <td>NaN</td>\n",
       "      <td>NaN</td>\n",
       "      <td>300.5</td>\n",
       "      <td>279.0</td>\n",
       "      <td>303</td>\n",
       "      <td>285</td>\n",
       "      <td>336.0</td>\n",
       "      <td>261.0</td>\n",
       "      <td>...</td>\n",
       "      <td>282</td>\n",
       "      <td>280</td>\n",
       "      <td>310</td>\n",
       "      <td>301</td>\n",
       "      <td>288</td>\n",
       "      <td>269.00</td>\n",
       "      <td>312.00</td>\n",
       "      <td>281.00</td>\n",
       "      <td>276.000</td>\n",
       "      <td>286.0</td>\n",
       "    </tr>\n",
       "    <tr>\n",
       "      <th>3</th>\n",
       "      <td>NaN</td>\n",
       "      <td>How many months of paid experience did you hav...</td>\n",
       "      <td>NaN</td>\n",
       "      <td>NaN</td>\n",
       "      <td>0.0</td>\n",
       "      <td>0.0</td>\n",
       "      <td>24</td>\n",
       "      <td>18</td>\n",
       "      <td>60.0</td>\n",
       "      <td>3.0</td>\n",
       "      <td>...</td>\n",
       "      <td>0</td>\n",
       "      <td>24</td>\n",
       "      <td>36</td>\n",
       "      <td>0</td>\n",
       "      <td>16</td>\n",
       "      <td>3.00</td>\n",
       "      <td>0.00</td>\n",
       "      <td>8.00</td>\n",
       "      <td>0.000</td>\n",
       "      <td>13.0</td>\n",
       "    </tr>\n",
       "    <tr>\n",
       "      <th>4</th>\n",
       "      <td>NaN</td>\n",
       "      <td>What is your gender</td>\n",
       "      <td>Male (1/0)</td>\n",
       "      <td>NaN</td>\n",
       "      <td>NaN</td>\n",
       "      <td>1.0</td>\n",
       "      <td>1</td>\n",
       "      <td>1</td>\n",
       "      <td>0.0</td>\n",
       "      <td>0.0</td>\n",
       "      <td>...</td>\n",
       "      <td>1</td>\n",
       "      <td>1</td>\n",
       "      <td>1</td>\n",
       "      <td>1</td>\n",
       "      <td>1</td>\n",
       "      <td>0.00</td>\n",
       "      <td>1.00</td>\n",
       "      <td>0.00</td>\n",
       "      <td>1.000</td>\n",
       "      <td>NaN</td>\n",
       "    </tr>\n",
       "    <tr>\n",
       "      <th>5</th>\n",
       "      <td>NaN</td>\n",
       "      <td>NaN</td>\n",
       "      <td>Female (1/0)</td>\n",
       "      <td>NaN</td>\n",
       "      <td>1.0</td>\n",
       "      <td>0.0</td>\n",
       "      <td>0</td>\n",
       "      <td>0</td>\n",
       "      <td>1.0</td>\n",
       "      <td>1.0</td>\n",
       "      <td>...</td>\n",
       "      <td>0</td>\n",
       "      <td>0</td>\n",
       "      <td>0</td>\n",
       "      <td>0</td>\n",
       "      <td>0</td>\n",
       "      <td>1.00</td>\n",
       "      <td>0.00</td>\n",
       "      <td>1.00</td>\n",
       "      <td>0.000</td>\n",
       "      <td>NaN</td>\n",
       "    </tr>\n",
       "    <tr>\n",
       "      <th>6</th>\n",
       "      <td>NaN</td>\n",
       "      <td>How many months of unpaid experience did you h...</td>\n",
       "      <td>NaN</td>\n",
       "      <td>NaN</td>\n",
       "      <td>6.0</td>\n",
       "      <td>0.0</td>\n",
       "      <td>0</td>\n",
       "      <td>0</td>\n",
       "      <td>0.0</td>\n",
       "      <td>0.0</td>\n",
       "      <td>...</td>\n",
       "      <td>0</td>\n",
       "      <td>0</td>\n",
       "      <td>3</td>\n",
       "      <td>0</td>\n",
       "      <td>0</td>\n",
       "      <td>0.00</td>\n",
       "      <td>0.00</td>\n",
       "      <td>0.00</td>\n",
       "      <td>0.000</td>\n",
       "      <td>NaN</td>\n",
       "    </tr>\n",
       "  </tbody>\n",
       "</table>\n",
       "<p>7 rows × 81 columns</p>\n",
       "</div>"
      ],
      "text/plain": [
       "   Unnamed: 0      Select any number and color the entire column  \\\n",
       "0         NaN                     What is your height in inches?   \n",
       "1         NaN                     What is your weight in pounds?   \n",
       "2         NaN                   What is your age in # of months?   \n",
       "3         NaN  How many months of paid experience did you hav...   \n",
       "4         NaN                                What is your gender   \n",
       "5         NaN                                                NaN   \n",
       "6         NaN  How many months of unpaid experience did you h...   \n",
       "\n",
       "     Unnamed: 2  Unnamed: 3  Unnamed: 4  Unnamed: 5  Unnamed: 6  Unnamed: 7  \\\n",
       "0           NaN         NaN        64.0        70.0          70          69   \n",
       "1           NaN         NaN       124.0       211.6         200         124   \n",
       "2           NaN         NaN       300.5       279.0         303         285   \n",
       "3           NaN         NaN         0.0         0.0          24          18   \n",
       "4    Male (1/0)         NaN         NaN         1.0           1           1   \n",
       "5  Female (1/0)         NaN         1.0         0.0           0           0   \n",
       "6           NaN         NaN         6.0         0.0           0           0   \n",
       "\n",
       "   Unnamed: 8  Unnamed: 9  ...  Unnamed: 71  Unnamed: 72  Unnamed: 73  \\\n",
       "0        61.0        63.5  ...           73           70          175   \n",
       "1       134.5       123.6  ...          165          198          128   \n",
       "2       336.0       261.0  ...          282          280          310   \n",
       "3        60.0         3.0  ...            0           24           36   \n",
       "4         0.0         0.0  ...            1            1            1   \n",
       "5         1.0         1.0  ...            0            0            0   \n",
       "6         0.0         0.0  ...            0            0            3   \n",
       "\n",
       "   Unnamed: 74  Unnamed: 75  Unnamed: 76  Unnamed: 77  Unnamed: 78  \\\n",
       "0           69           70        64.00        70.00        67.20   \n",
       "1          160          160       121.25       158.73       125.66   \n",
       "2          301          288       269.00       312.00       281.00   \n",
       "3            0           16         3.00         0.00         8.00   \n",
       "4            1            1         0.00         1.00         0.00   \n",
       "5            0            0         1.00         0.00         1.00   \n",
       "6            0            0         0.00         0.00         0.00   \n",
       "\n",
       "   Unnamed: 79  Unnamed: 80  \n",
       "0       72.000         69.0  \n",
       "1      160.937        156.0  \n",
       "2      276.000        286.0  \n",
       "3        0.000         13.0  \n",
       "4        1.000          NaN  \n",
       "5        0.000          NaN  \n",
       "6        0.000          NaN  \n",
       "\n",
       "[7 rows x 81 columns]"
      ]
     },
     "execution_count": 640,
     "metadata": {},
     "output_type": "execute_result"
    }
   ],
   "source": [
    "df"
   ]
  },
  {
   "cell_type": "raw",
   "id": "1abe94b2",
   "metadata": {},
   "source": [
    "Transposing the raw dataframe since first it is in horizontal format"
   ]
  },
  {
   "cell_type": "code",
   "execution_count": 641,
   "id": "7fde7927",
   "metadata": {},
   "outputs": [],
   "source": [
    "df_new=df.T"
   ]
  },
  {
   "cell_type": "code",
   "execution_count": null,
   "id": "0ef5081a",
   "metadata": {},
   "outputs": [],
   "source": []
  },
  {
   "cell_type": "raw",
   "id": "94bc4b0f",
   "metadata": {},
   "source": [
    "# Resetting the index since it is unncessary and also deleting it."
   ]
  },
  {
   "cell_type": "code",
   "execution_count": 642,
   "id": "aecf6790",
   "metadata": {},
   "outputs": [],
   "source": [
    "df_new=df_new.reset_index(drop=True)"
   ]
  },
  {
   "cell_type": "code",
   "execution_count": 643,
   "id": "1f34df57",
   "metadata": {},
   "outputs": [
    {
     "data": {
      "text/html": [
       "<div>\n",
       "<style scoped>\n",
       "    .dataframe tbody tr th:only-of-type {\n",
       "        vertical-align: middle;\n",
       "    }\n",
       "\n",
       "    .dataframe tbody tr th {\n",
       "        vertical-align: top;\n",
       "    }\n",
       "\n",
       "    .dataframe thead th {\n",
       "        text-align: right;\n",
       "    }\n",
       "</style>\n",
       "<table border=\"1\" class=\"dataframe\">\n",
       "  <thead>\n",
       "    <tr style=\"text-align: right;\">\n",
       "      <th></th>\n",
       "      <th>0</th>\n",
       "      <th>1</th>\n",
       "      <th>2</th>\n",
       "      <th>3</th>\n",
       "      <th>4</th>\n",
       "      <th>5</th>\n",
       "      <th>6</th>\n",
       "    </tr>\n",
       "  </thead>\n",
       "  <tbody>\n",
       "    <tr>\n",
       "      <th>0</th>\n",
       "      <td>NaN</td>\n",
       "      <td>NaN</td>\n",
       "      <td>NaN</td>\n",
       "      <td>NaN</td>\n",
       "      <td>NaN</td>\n",
       "      <td>NaN</td>\n",
       "      <td>NaN</td>\n",
       "    </tr>\n",
       "    <tr>\n",
       "      <th>1</th>\n",
       "      <td>What is your height in inches?</td>\n",
       "      <td>What is your weight in pounds?</td>\n",
       "      <td>What is your age in # of months?</td>\n",
       "      <td>How many months of paid experience did you hav...</td>\n",
       "      <td>What is your gender</td>\n",
       "      <td>NaN</td>\n",
       "      <td>How many months of unpaid experience did you h...</td>\n",
       "    </tr>\n",
       "    <tr>\n",
       "      <th>2</th>\n",
       "      <td>NaN</td>\n",
       "      <td>NaN</td>\n",
       "      <td>NaN</td>\n",
       "      <td>NaN</td>\n",
       "      <td>Male (1/0)</td>\n",
       "      <td>Female (1/0)</td>\n",
       "      <td>NaN</td>\n",
       "    </tr>\n",
       "    <tr>\n",
       "      <th>3</th>\n",
       "      <td>NaN</td>\n",
       "      <td>NaN</td>\n",
       "      <td>NaN</td>\n",
       "      <td>NaN</td>\n",
       "      <td>NaN</td>\n",
       "      <td>NaN</td>\n",
       "      <td>NaN</td>\n",
       "    </tr>\n",
       "    <tr>\n",
       "      <th>4</th>\n",
       "      <td>64.0</td>\n",
       "      <td>124.0</td>\n",
       "      <td>300.5</td>\n",
       "      <td>0.0</td>\n",
       "      <td>NaN</td>\n",
       "      <td>1.0</td>\n",
       "      <td>6.0</td>\n",
       "    </tr>\n",
       "    <tr>\n",
       "      <th>...</th>\n",
       "      <td>...</td>\n",
       "      <td>...</td>\n",
       "      <td>...</td>\n",
       "      <td>...</td>\n",
       "      <td>...</td>\n",
       "      <td>...</td>\n",
       "      <td>...</td>\n",
       "    </tr>\n",
       "    <tr>\n",
       "      <th>76</th>\n",
       "      <td>64.0</td>\n",
       "      <td>121.25</td>\n",
       "      <td>269.0</td>\n",
       "      <td>3.0</td>\n",
       "      <td>0.0</td>\n",
       "      <td>1.0</td>\n",
       "      <td>0.0</td>\n",
       "    </tr>\n",
       "    <tr>\n",
       "      <th>77</th>\n",
       "      <td>70.0</td>\n",
       "      <td>158.73</td>\n",
       "      <td>312.0</td>\n",
       "      <td>0.0</td>\n",
       "      <td>1.0</td>\n",
       "      <td>0.0</td>\n",
       "      <td>0.0</td>\n",
       "    </tr>\n",
       "    <tr>\n",
       "      <th>78</th>\n",
       "      <td>67.2</td>\n",
       "      <td>125.66</td>\n",
       "      <td>281.0</td>\n",
       "      <td>8.0</td>\n",
       "      <td>0.0</td>\n",
       "      <td>1.0</td>\n",
       "      <td>0.0</td>\n",
       "    </tr>\n",
       "    <tr>\n",
       "      <th>79</th>\n",
       "      <td>72.0</td>\n",
       "      <td>160.937</td>\n",
       "      <td>276.0</td>\n",
       "      <td>0.0</td>\n",
       "      <td>1.0</td>\n",
       "      <td>0.0</td>\n",
       "      <td>0.0</td>\n",
       "    </tr>\n",
       "    <tr>\n",
       "      <th>80</th>\n",
       "      <td>69.0</td>\n",
       "      <td>156.0</td>\n",
       "      <td>286.0</td>\n",
       "      <td>13.0</td>\n",
       "      <td>NaN</td>\n",
       "      <td>NaN</td>\n",
       "      <td>NaN</td>\n",
       "    </tr>\n",
       "  </tbody>\n",
       "</table>\n",
       "<p>81 rows × 7 columns</p>\n",
       "</div>"
      ],
      "text/plain": [
       "                                 0                               1  \\\n",
       "0                              NaN                             NaN   \n",
       "1   What is your height in inches?  What is your weight in pounds?   \n",
       "2                              NaN                             NaN   \n",
       "3                              NaN                             NaN   \n",
       "4                             64.0                           124.0   \n",
       "..                             ...                             ...   \n",
       "76                            64.0                          121.25   \n",
       "77                            70.0                          158.73   \n",
       "78                            67.2                          125.66   \n",
       "79                            72.0                         160.937   \n",
       "80                            69.0                           156.0   \n",
       "\n",
       "                                   2  \\\n",
       "0                                NaN   \n",
       "1   What is your age in # of months?   \n",
       "2                                NaN   \n",
       "3                                NaN   \n",
       "4                              300.5   \n",
       "..                               ...   \n",
       "76                             269.0   \n",
       "77                             312.0   \n",
       "78                             281.0   \n",
       "79                             276.0   \n",
       "80                             286.0   \n",
       "\n",
       "                                                    3                    4  \\\n",
       "0                                                 NaN                  NaN   \n",
       "1   How many months of paid experience did you hav...  What is your gender   \n",
       "2                                                 NaN           Male (1/0)   \n",
       "3                                                 NaN                  NaN   \n",
       "4                                                 0.0                  NaN   \n",
       "..                                                ...                  ...   \n",
       "76                                                3.0                  0.0   \n",
       "77                                                0.0                  1.0   \n",
       "78                                                8.0                  0.0   \n",
       "79                                                0.0                  1.0   \n",
       "80                                               13.0                  NaN   \n",
       "\n",
       "               5                                                  6  \n",
       "0            NaN                                                NaN  \n",
       "1            NaN  How many months of unpaid experience did you h...  \n",
       "2   Female (1/0)                                                NaN  \n",
       "3            NaN                                                NaN  \n",
       "4            1.0                                                6.0  \n",
       "..           ...                                                ...  \n",
       "76           1.0                                                0.0  \n",
       "77           0.0                                                0.0  \n",
       "78           1.0                                                0.0  \n",
       "79           0.0                                                0.0  \n",
       "80           NaN                                                NaN  \n",
       "\n",
       "[81 rows x 7 columns]"
      ]
     },
     "execution_count": 643,
     "metadata": {},
     "output_type": "execute_result"
    }
   ],
   "source": [
    "df_new"
   ]
  },
  {
   "cell_type": "raw",
   "id": "96bfefdf",
   "metadata": {},
   "source": [
    "As you can see above that in first row all columns have Nan value so deleting them and creating new dataframe"
   ]
  },
  {
   "cell_type": "code",
   "execution_count": 644,
   "id": "09f1cb18",
   "metadata": {},
   "outputs": [],
   "source": [
    "df_new=df_new.iloc[1:,:]"
   ]
  },
  {
   "cell_type": "code",
   "execution_count": 645,
   "id": "f6bb2b23",
   "metadata": {},
   "outputs": [
    {
     "data": {
      "text/html": [
       "<div>\n",
       "<style scoped>\n",
       "    .dataframe tbody tr th:only-of-type {\n",
       "        vertical-align: middle;\n",
       "    }\n",
       "\n",
       "    .dataframe tbody tr th {\n",
       "        vertical-align: top;\n",
       "    }\n",
       "\n",
       "    .dataframe thead th {\n",
       "        text-align: right;\n",
       "    }\n",
       "</style>\n",
       "<table border=\"1\" class=\"dataframe\">\n",
       "  <thead>\n",
       "    <tr style=\"text-align: right;\">\n",
       "      <th></th>\n",
       "      <th>0</th>\n",
       "      <th>1</th>\n",
       "      <th>2</th>\n",
       "      <th>3</th>\n",
       "      <th>4</th>\n",
       "      <th>5</th>\n",
       "      <th>6</th>\n",
       "    </tr>\n",
       "  </thead>\n",
       "  <tbody>\n",
       "    <tr>\n",
       "      <th>1</th>\n",
       "      <td>What is your height in inches?</td>\n",
       "      <td>What is your weight in pounds?</td>\n",
       "      <td>What is your age in # of months?</td>\n",
       "      <td>How many months of paid experience did you hav...</td>\n",
       "      <td>What is your gender</td>\n",
       "      <td>NaN</td>\n",
       "      <td>How many months of unpaid experience did you h...</td>\n",
       "    </tr>\n",
       "    <tr>\n",
       "      <th>2</th>\n",
       "      <td>NaN</td>\n",
       "      <td>NaN</td>\n",
       "      <td>NaN</td>\n",
       "      <td>NaN</td>\n",
       "      <td>Male (1/0)</td>\n",
       "      <td>Female (1/0)</td>\n",
       "      <td>NaN</td>\n",
       "    </tr>\n",
       "    <tr>\n",
       "      <th>3</th>\n",
       "      <td>NaN</td>\n",
       "      <td>NaN</td>\n",
       "      <td>NaN</td>\n",
       "      <td>NaN</td>\n",
       "      <td>NaN</td>\n",
       "      <td>NaN</td>\n",
       "      <td>NaN</td>\n",
       "    </tr>\n",
       "    <tr>\n",
       "      <th>4</th>\n",
       "      <td>64.0</td>\n",
       "      <td>124.0</td>\n",
       "      <td>300.5</td>\n",
       "      <td>0.0</td>\n",
       "      <td>NaN</td>\n",
       "      <td>1.0</td>\n",
       "      <td>6.0</td>\n",
       "    </tr>\n",
       "    <tr>\n",
       "      <th>5</th>\n",
       "      <td>70.0</td>\n",
       "      <td>211.6</td>\n",
       "      <td>279.0</td>\n",
       "      <td>0.0</td>\n",
       "      <td>1.0</td>\n",
       "      <td>0.0</td>\n",
       "      <td>0.0</td>\n",
       "    </tr>\n",
       "    <tr>\n",
       "      <th>...</th>\n",
       "      <td>...</td>\n",
       "      <td>...</td>\n",
       "      <td>...</td>\n",
       "      <td>...</td>\n",
       "      <td>...</td>\n",
       "      <td>...</td>\n",
       "      <td>...</td>\n",
       "    </tr>\n",
       "    <tr>\n",
       "      <th>76</th>\n",
       "      <td>64.0</td>\n",
       "      <td>121.25</td>\n",
       "      <td>269.0</td>\n",
       "      <td>3.0</td>\n",
       "      <td>0.0</td>\n",
       "      <td>1.0</td>\n",
       "      <td>0.0</td>\n",
       "    </tr>\n",
       "    <tr>\n",
       "      <th>77</th>\n",
       "      <td>70.0</td>\n",
       "      <td>158.73</td>\n",
       "      <td>312.0</td>\n",
       "      <td>0.0</td>\n",
       "      <td>1.0</td>\n",
       "      <td>0.0</td>\n",
       "      <td>0.0</td>\n",
       "    </tr>\n",
       "    <tr>\n",
       "      <th>78</th>\n",
       "      <td>67.2</td>\n",
       "      <td>125.66</td>\n",
       "      <td>281.0</td>\n",
       "      <td>8.0</td>\n",
       "      <td>0.0</td>\n",
       "      <td>1.0</td>\n",
       "      <td>0.0</td>\n",
       "    </tr>\n",
       "    <tr>\n",
       "      <th>79</th>\n",
       "      <td>72.0</td>\n",
       "      <td>160.937</td>\n",
       "      <td>276.0</td>\n",
       "      <td>0.0</td>\n",
       "      <td>1.0</td>\n",
       "      <td>0.0</td>\n",
       "      <td>0.0</td>\n",
       "    </tr>\n",
       "    <tr>\n",
       "      <th>80</th>\n",
       "      <td>69.0</td>\n",
       "      <td>156.0</td>\n",
       "      <td>286.0</td>\n",
       "      <td>13.0</td>\n",
       "      <td>NaN</td>\n",
       "      <td>NaN</td>\n",
       "      <td>NaN</td>\n",
       "    </tr>\n",
       "  </tbody>\n",
       "</table>\n",
       "<p>80 rows × 7 columns</p>\n",
       "</div>"
      ],
      "text/plain": [
       "                                 0                               1  \\\n",
       "1   What is your height in inches?  What is your weight in pounds?   \n",
       "2                              NaN                             NaN   \n",
       "3                              NaN                             NaN   \n",
       "4                             64.0                           124.0   \n",
       "5                             70.0                           211.6   \n",
       "..                             ...                             ...   \n",
       "76                            64.0                          121.25   \n",
       "77                            70.0                          158.73   \n",
       "78                            67.2                          125.66   \n",
       "79                            72.0                         160.937   \n",
       "80                            69.0                           156.0   \n",
       "\n",
       "                                   2  \\\n",
       "1   What is your age in # of months?   \n",
       "2                                NaN   \n",
       "3                                NaN   \n",
       "4                              300.5   \n",
       "5                              279.0   \n",
       "..                               ...   \n",
       "76                             269.0   \n",
       "77                             312.0   \n",
       "78                             281.0   \n",
       "79                             276.0   \n",
       "80                             286.0   \n",
       "\n",
       "                                                    3                    4  \\\n",
       "1   How many months of paid experience did you hav...  What is your gender   \n",
       "2                                                 NaN           Male (1/0)   \n",
       "3                                                 NaN                  NaN   \n",
       "4                                                 0.0                  NaN   \n",
       "5                                                 0.0                  1.0   \n",
       "..                                                ...                  ...   \n",
       "76                                                3.0                  0.0   \n",
       "77                                                0.0                  1.0   \n",
       "78                                                8.0                  0.0   \n",
       "79                                                0.0                  1.0   \n",
       "80                                               13.0                  NaN   \n",
       "\n",
       "               5                                                  6  \n",
       "1            NaN  How many months of unpaid experience did you h...  \n",
       "2   Female (1/0)                                                NaN  \n",
       "3            NaN                                                NaN  \n",
       "4            1.0                                                6.0  \n",
       "5            0.0                                                0.0  \n",
       "..           ...                                                ...  \n",
       "76           1.0                                                0.0  \n",
       "77           0.0                                                0.0  \n",
       "78           1.0                                                0.0  \n",
       "79           0.0                                                0.0  \n",
       "80           NaN                                                NaN  \n",
       "\n",
       "[80 rows x 7 columns]"
      ]
     },
     "execution_count": 645,
     "metadata": {},
     "output_type": "execute_result"
    }
   ],
   "source": [
    "df_new"
   ]
  },
  {
   "cell_type": "code",
   "execution_count": 646,
   "id": "e634080d",
   "metadata": {},
   "outputs": [
    {
     "data": {
      "text/plain": [
       "RangeIndex(start=0, stop=7, step=1)"
      ]
     },
     "execution_count": 646,
     "metadata": {},
     "output_type": "execute_result"
    }
   ],
   "source": [
    "df_new.columns"
   ]
  },
  {
   "cell_type": "raw",
   "id": "7ccd05ce",
   "metadata": {},
   "source": [
    "Creating the dictionary to change the name of columns.Here some columns have Nan value as name so converting into string \"nan\" and inserting into dictionary so that in future they coukd be easily used further"
   ]
  },
  {
   "cell_type": "code",
   "execution_count": 647,
   "id": "3616aef5",
   "metadata": {},
   "outputs": [],
   "source": [
    "cols={}\n",
    "for prev,new in zip(df_new.columns,df_new.iloc[0,:]):\n",
    "    if type(new)==float:\n",
    "        cols[prev]=\"nan\"\n",
    "    else:\n",
    "        cols[prev]=new\n"
   ]
  },
  {
   "cell_type": "code",
   "execution_count": 648,
   "id": "456f1b5c",
   "metadata": {},
   "outputs": [
    {
     "data": {
      "text/plain": [
       "{0: 'What is your height in inches?',\n",
       " 1: 'What is your weight in pounds?',\n",
       " 2: 'What is your age in # of months?',\n",
       " 3: 'How many months of paid experience did you have before you started your graduate degree at UTA?',\n",
       " 4: 'What is your gender',\n",
       " 5: 'nan',\n",
       " 6: 'How many months of unpaid experience did you have before you started your graduate degree at UTA?'}"
      ]
     },
     "execution_count": 648,
     "metadata": {},
     "output_type": "execute_result"
    }
   ],
   "source": [
    "cols"
   ]
  },
  {
   "cell_type": "raw",
   "id": "d49fc985",
   "metadata": {},
   "source": [
    "Renaming the columns"
   ]
  },
  {
   "cell_type": "code",
   "execution_count": 649,
   "id": "067d00df",
   "metadata": {
    "scrolled": false
   },
   "outputs": [
    {
     "name": "stderr",
     "output_type": "stream",
     "text": [
      "C:\\ProgramData\\Anaconda3\\lib\\site-packages\\pandas\\core\\frame.py:5039: SettingWithCopyWarning: \n",
      "A value is trying to be set on a copy of a slice from a DataFrame\n",
      "\n",
      "See the caveats in the documentation: https://pandas.pydata.org/pandas-docs/stable/user_guide/indexing.html#returning-a-view-versus-a-copy\n",
      "  return super().rename(\n"
     ]
    }
   ],
   "source": [
    "df_new.rename(columns=cols,inplace=True)"
   ]
  },
  {
   "cell_type": "code",
   "execution_count": 650,
   "id": "51c43f73",
   "metadata": {},
   "outputs": [
    {
     "data": {
      "text/html": [
       "<div>\n",
       "<style scoped>\n",
       "    .dataframe tbody tr th:only-of-type {\n",
       "        vertical-align: middle;\n",
       "    }\n",
       "\n",
       "    .dataframe tbody tr th {\n",
       "        vertical-align: top;\n",
       "    }\n",
       "\n",
       "    .dataframe thead th {\n",
       "        text-align: right;\n",
       "    }\n",
       "</style>\n",
       "<table border=\"1\" class=\"dataframe\">\n",
       "  <thead>\n",
       "    <tr style=\"text-align: right;\">\n",
       "      <th></th>\n",
       "      <th>What is your height in inches?</th>\n",
       "      <th>What is your weight in pounds?</th>\n",
       "      <th>What is your age in # of months?</th>\n",
       "      <th>How many months of paid experience did you have before you started your graduate degree at UTA?</th>\n",
       "      <th>What is your gender</th>\n",
       "      <th>nan</th>\n",
       "      <th>How many months of unpaid experience did you have before you started your graduate degree at UTA?</th>\n",
       "    </tr>\n",
       "  </thead>\n",
       "  <tbody>\n",
       "    <tr>\n",
       "      <th>1</th>\n",
       "      <td>What is your height in inches?</td>\n",
       "      <td>What is your weight in pounds?</td>\n",
       "      <td>What is your age in # of months?</td>\n",
       "      <td>How many months of paid experience did you hav...</td>\n",
       "      <td>What is your gender</td>\n",
       "      <td>NaN</td>\n",
       "      <td>How many months of unpaid experience did you h...</td>\n",
       "    </tr>\n",
       "    <tr>\n",
       "      <th>2</th>\n",
       "      <td>NaN</td>\n",
       "      <td>NaN</td>\n",
       "      <td>NaN</td>\n",
       "      <td>NaN</td>\n",
       "      <td>Male (1/0)</td>\n",
       "      <td>Female (1/0)</td>\n",
       "      <td>NaN</td>\n",
       "    </tr>\n",
       "    <tr>\n",
       "      <th>3</th>\n",
       "      <td>NaN</td>\n",
       "      <td>NaN</td>\n",
       "      <td>NaN</td>\n",
       "      <td>NaN</td>\n",
       "      <td>NaN</td>\n",
       "      <td>NaN</td>\n",
       "      <td>NaN</td>\n",
       "    </tr>\n",
       "    <tr>\n",
       "      <th>4</th>\n",
       "      <td>64.0</td>\n",
       "      <td>124.0</td>\n",
       "      <td>300.5</td>\n",
       "      <td>0.0</td>\n",
       "      <td>NaN</td>\n",
       "      <td>1.0</td>\n",
       "      <td>6.0</td>\n",
       "    </tr>\n",
       "    <tr>\n",
       "      <th>5</th>\n",
       "      <td>70.0</td>\n",
       "      <td>211.6</td>\n",
       "      <td>279.0</td>\n",
       "      <td>0.0</td>\n",
       "      <td>1.0</td>\n",
       "      <td>0.0</td>\n",
       "      <td>0.0</td>\n",
       "    </tr>\n",
       "    <tr>\n",
       "      <th>...</th>\n",
       "      <td>...</td>\n",
       "      <td>...</td>\n",
       "      <td>...</td>\n",
       "      <td>...</td>\n",
       "      <td>...</td>\n",
       "      <td>...</td>\n",
       "      <td>...</td>\n",
       "    </tr>\n",
       "    <tr>\n",
       "      <th>76</th>\n",
       "      <td>64.0</td>\n",
       "      <td>121.25</td>\n",
       "      <td>269.0</td>\n",
       "      <td>3.0</td>\n",
       "      <td>0.0</td>\n",
       "      <td>1.0</td>\n",
       "      <td>0.0</td>\n",
       "    </tr>\n",
       "    <tr>\n",
       "      <th>77</th>\n",
       "      <td>70.0</td>\n",
       "      <td>158.73</td>\n",
       "      <td>312.0</td>\n",
       "      <td>0.0</td>\n",
       "      <td>1.0</td>\n",
       "      <td>0.0</td>\n",
       "      <td>0.0</td>\n",
       "    </tr>\n",
       "    <tr>\n",
       "      <th>78</th>\n",
       "      <td>67.2</td>\n",
       "      <td>125.66</td>\n",
       "      <td>281.0</td>\n",
       "      <td>8.0</td>\n",
       "      <td>0.0</td>\n",
       "      <td>1.0</td>\n",
       "      <td>0.0</td>\n",
       "    </tr>\n",
       "    <tr>\n",
       "      <th>79</th>\n",
       "      <td>72.0</td>\n",
       "      <td>160.937</td>\n",
       "      <td>276.0</td>\n",
       "      <td>0.0</td>\n",
       "      <td>1.0</td>\n",
       "      <td>0.0</td>\n",
       "      <td>0.0</td>\n",
       "    </tr>\n",
       "    <tr>\n",
       "      <th>80</th>\n",
       "      <td>69.0</td>\n",
       "      <td>156.0</td>\n",
       "      <td>286.0</td>\n",
       "      <td>13.0</td>\n",
       "      <td>NaN</td>\n",
       "      <td>NaN</td>\n",
       "      <td>NaN</td>\n",
       "    </tr>\n",
       "  </tbody>\n",
       "</table>\n",
       "<p>80 rows × 7 columns</p>\n",
       "</div>"
      ],
      "text/plain": [
       "    What is your height in inches?  What is your weight in pounds?  \\\n",
       "1   What is your height in inches?  What is your weight in pounds?   \n",
       "2                              NaN                             NaN   \n",
       "3                              NaN                             NaN   \n",
       "4                             64.0                           124.0   \n",
       "5                             70.0                           211.6   \n",
       "..                             ...                             ...   \n",
       "76                            64.0                          121.25   \n",
       "77                            70.0                          158.73   \n",
       "78                            67.2                          125.66   \n",
       "79                            72.0                         160.937   \n",
       "80                            69.0                           156.0   \n",
       "\n",
       "    What is your age in # of months?  \\\n",
       "1   What is your age in # of months?   \n",
       "2                                NaN   \n",
       "3                                NaN   \n",
       "4                              300.5   \n",
       "5                              279.0   \n",
       "..                               ...   \n",
       "76                             269.0   \n",
       "77                             312.0   \n",
       "78                             281.0   \n",
       "79                             276.0   \n",
       "80                             286.0   \n",
       "\n",
       "   How many months of paid experience did you have before you started your graduate degree at UTA?  \\\n",
       "1   How many months of paid experience did you hav...                                                \n",
       "2                                                 NaN                                                \n",
       "3                                                 NaN                                                \n",
       "4                                                 0.0                                                \n",
       "5                                                 0.0                                                \n",
       "..                                                ...                                                \n",
       "76                                                3.0                                                \n",
       "77                                                0.0                                                \n",
       "78                                                8.0                                                \n",
       "79                                                0.0                                                \n",
       "80                                               13.0                                                \n",
       "\n",
       "    What is your gender           nan  \\\n",
       "1   What is your gender           NaN   \n",
       "2            Male (1/0)  Female (1/0)   \n",
       "3                   NaN           NaN   \n",
       "4                   NaN           1.0   \n",
       "5                   1.0           0.0   \n",
       "..                  ...           ...   \n",
       "76                  0.0           1.0   \n",
       "77                  1.0           0.0   \n",
       "78                  0.0           1.0   \n",
       "79                  1.0           0.0   \n",
       "80                  NaN           NaN   \n",
       "\n",
       "   How many months of unpaid experience did you have before you started your graduate degree at UTA?  \n",
       "1   How many months of unpaid experience did you h...                                                 \n",
       "2                                                 NaN                                                 \n",
       "3                                                 NaN                                                 \n",
       "4                                                 6.0                                                 \n",
       "5                                                 0.0                                                 \n",
       "..                                                ...                                                 \n",
       "76                                                0.0                                                 \n",
       "77                                                0.0                                                 \n",
       "78                                                0.0                                                 \n",
       "79                                                0.0                                                 \n",
       "80                                                NaN                                                 \n",
       "\n",
       "[80 rows x 7 columns]"
      ]
     },
     "execution_count": 650,
     "metadata": {},
     "output_type": "execute_result"
    }
   ],
   "source": [
    "df_new"
   ]
  },
  {
   "cell_type": "raw",
   "id": "fb8abe17",
   "metadata": {},
   "source": [
    "Just delete the first row since it has names of columns"
   ]
  },
  {
   "cell_type": "code",
   "execution_count": 651,
   "id": "b7fc8aa6",
   "metadata": {},
   "outputs": [],
   "source": [
    "df_new=df_new.iloc[1:,:]"
   ]
  },
  {
   "cell_type": "code",
   "execution_count": 652,
   "id": "ed5cdbb4",
   "metadata": {},
   "outputs": [
    {
     "data": {
      "text/html": [
       "<div>\n",
       "<style scoped>\n",
       "    .dataframe tbody tr th:only-of-type {\n",
       "        vertical-align: middle;\n",
       "    }\n",
       "\n",
       "    .dataframe tbody tr th {\n",
       "        vertical-align: top;\n",
       "    }\n",
       "\n",
       "    .dataframe thead th {\n",
       "        text-align: right;\n",
       "    }\n",
       "</style>\n",
       "<table border=\"1\" class=\"dataframe\">\n",
       "  <thead>\n",
       "    <tr style=\"text-align: right;\">\n",
       "      <th></th>\n",
       "      <th>What is your height in inches?</th>\n",
       "      <th>What is your weight in pounds?</th>\n",
       "      <th>What is your age in # of months?</th>\n",
       "      <th>How many months of paid experience did you have before you started your graduate degree at UTA?</th>\n",
       "      <th>What is your gender</th>\n",
       "      <th>nan</th>\n",
       "      <th>How many months of unpaid experience did you have before you started your graduate degree at UTA?</th>\n",
       "    </tr>\n",
       "  </thead>\n",
       "  <tbody>\n",
       "    <tr>\n",
       "      <th>2</th>\n",
       "      <td>NaN</td>\n",
       "      <td>NaN</td>\n",
       "      <td>NaN</td>\n",
       "      <td>NaN</td>\n",
       "      <td>Male (1/0)</td>\n",
       "      <td>Female (1/0)</td>\n",
       "      <td>NaN</td>\n",
       "    </tr>\n",
       "    <tr>\n",
       "      <th>3</th>\n",
       "      <td>NaN</td>\n",
       "      <td>NaN</td>\n",
       "      <td>NaN</td>\n",
       "      <td>NaN</td>\n",
       "      <td>NaN</td>\n",
       "      <td>NaN</td>\n",
       "      <td>NaN</td>\n",
       "    </tr>\n",
       "    <tr>\n",
       "      <th>4</th>\n",
       "      <td>64.0</td>\n",
       "      <td>124.0</td>\n",
       "      <td>300.5</td>\n",
       "      <td>0.0</td>\n",
       "      <td>NaN</td>\n",
       "      <td>1.0</td>\n",
       "      <td>6.0</td>\n",
       "    </tr>\n",
       "    <tr>\n",
       "      <th>5</th>\n",
       "      <td>70.0</td>\n",
       "      <td>211.6</td>\n",
       "      <td>279.0</td>\n",
       "      <td>0.0</td>\n",
       "      <td>1.0</td>\n",
       "      <td>0.0</td>\n",
       "      <td>0.0</td>\n",
       "    </tr>\n",
       "    <tr>\n",
       "      <th>6</th>\n",
       "      <td>70</td>\n",
       "      <td>200</td>\n",
       "      <td>303</td>\n",
       "      <td>24</td>\n",
       "      <td>1</td>\n",
       "      <td>0</td>\n",
       "      <td>0</td>\n",
       "    </tr>\n",
       "    <tr>\n",
       "      <th>...</th>\n",
       "      <td>...</td>\n",
       "      <td>...</td>\n",
       "      <td>...</td>\n",
       "      <td>...</td>\n",
       "      <td>...</td>\n",
       "      <td>...</td>\n",
       "      <td>...</td>\n",
       "    </tr>\n",
       "    <tr>\n",
       "      <th>76</th>\n",
       "      <td>64.0</td>\n",
       "      <td>121.25</td>\n",
       "      <td>269.0</td>\n",
       "      <td>3.0</td>\n",
       "      <td>0.0</td>\n",
       "      <td>1.0</td>\n",
       "      <td>0.0</td>\n",
       "    </tr>\n",
       "    <tr>\n",
       "      <th>77</th>\n",
       "      <td>70.0</td>\n",
       "      <td>158.73</td>\n",
       "      <td>312.0</td>\n",
       "      <td>0.0</td>\n",
       "      <td>1.0</td>\n",
       "      <td>0.0</td>\n",
       "      <td>0.0</td>\n",
       "    </tr>\n",
       "    <tr>\n",
       "      <th>78</th>\n",
       "      <td>67.2</td>\n",
       "      <td>125.66</td>\n",
       "      <td>281.0</td>\n",
       "      <td>8.0</td>\n",
       "      <td>0.0</td>\n",
       "      <td>1.0</td>\n",
       "      <td>0.0</td>\n",
       "    </tr>\n",
       "    <tr>\n",
       "      <th>79</th>\n",
       "      <td>72.0</td>\n",
       "      <td>160.937</td>\n",
       "      <td>276.0</td>\n",
       "      <td>0.0</td>\n",
       "      <td>1.0</td>\n",
       "      <td>0.0</td>\n",
       "      <td>0.0</td>\n",
       "    </tr>\n",
       "    <tr>\n",
       "      <th>80</th>\n",
       "      <td>69.0</td>\n",
       "      <td>156.0</td>\n",
       "      <td>286.0</td>\n",
       "      <td>13.0</td>\n",
       "      <td>NaN</td>\n",
       "      <td>NaN</td>\n",
       "      <td>NaN</td>\n",
       "    </tr>\n",
       "  </tbody>\n",
       "</table>\n",
       "<p>79 rows × 7 columns</p>\n",
       "</div>"
      ],
      "text/plain": [
       "   What is your height in inches? What is your weight in pounds?  \\\n",
       "2                             NaN                            NaN   \n",
       "3                             NaN                            NaN   \n",
       "4                            64.0                          124.0   \n",
       "5                            70.0                          211.6   \n",
       "6                              70                            200   \n",
       "..                            ...                            ...   \n",
       "76                           64.0                         121.25   \n",
       "77                           70.0                         158.73   \n",
       "78                           67.2                         125.66   \n",
       "79                           72.0                        160.937   \n",
       "80                           69.0                          156.0   \n",
       "\n",
       "   What is your age in # of months?  \\\n",
       "2                               NaN   \n",
       "3                               NaN   \n",
       "4                             300.5   \n",
       "5                             279.0   \n",
       "6                               303   \n",
       "..                              ...   \n",
       "76                            269.0   \n",
       "77                            312.0   \n",
       "78                            281.0   \n",
       "79                            276.0   \n",
       "80                            286.0   \n",
       "\n",
       "   How many months of paid experience did you have before you started your graduate degree at UTA?  \\\n",
       "2                                                 NaN                                                \n",
       "3                                                 NaN                                                \n",
       "4                                                 0.0                                                \n",
       "5                                                 0.0                                                \n",
       "6                                                  24                                                \n",
       "..                                                ...                                                \n",
       "76                                                3.0                                                \n",
       "77                                                0.0                                                \n",
       "78                                                8.0                                                \n",
       "79                                                0.0                                                \n",
       "80                                               13.0                                                \n",
       "\n",
       "   What is your gender           nan  \\\n",
       "2           Male (1/0)  Female (1/0)   \n",
       "3                  NaN           NaN   \n",
       "4                  NaN           1.0   \n",
       "5                  1.0           0.0   \n",
       "6                    1             0   \n",
       "..                 ...           ...   \n",
       "76                 0.0           1.0   \n",
       "77                 1.0           0.0   \n",
       "78                 0.0           1.0   \n",
       "79                 1.0           0.0   \n",
       "80                 NaN           NaN   \n",
       "\n",
       "   How many months of unpaid experience did you have before you started your graduate degree at UTA?  \n",
       "2                                                 NaN                                                 \n",
       "3                                                 NaN                                                 \n",
       "4                                                 6.0                                                 \n",
       "5                                                 0.0                                                 \n",
       "6                                                   0                                                 \n",
       "..                                                ...                                                 \n",
       "76                                                0.0                                                 \n",
       "77                                                0.0                                                 \n",
       "78                                                0.0                                                 \n",
       "79                                                0.0                                                 \n",
       "80                                                NaN                                                 \n",
       "\n",
       "[79 rows x 7 columns]"
      ]
     },
     "execution_count": 652,
     "metadata": {},
     "output_type": "execute_result"
    }
   ],
   "source": [
    "df_new"
   ]
  },
  {
   "cell_type": "raw",
   "id": "bed85585",
   "metadata": {},
   "source": [
    "Just deleting first row since there are again Nan values left "
   ]
  },
  {
   "cell_type": "code",
   "execution_count": 653,
   "id": "49b70efc",
   "metadata": {},
   "outputs": [],
   "source": [
    "df_new=df_new.iloc[1:,:]"
   ]
  },
  {
   "cell_type": "code",
   "execution_count": 654,
   "id": "2df360c5",
   "metadata": {},
   "outputs": [
    {
     "data": {
      "text/html": [
       "<div>\n",
       "<style scoped>\n",
       "    .dataframe tbody tr th:only-of-type {\n",
       "        vertical-align: middle;\n",
       "    }\n",
       "\n",
       "    .dataframe tbody tr th {\n",
       "        vertical-align: top;\n",
       "    }\n",
       "\n",
       "    .dataframe thead th {\n",
       "        text-align: right;\n",
       "    }\n",
       "</style>\n",
       "<table border=\"1\" class=\"dataframe\">\n",
       "  <thead>\n",
       "    <tr style=\"text-align: right;\">\n",
       "      <th></th>\n",
       "      <th>What is your height in inches?</th>\n",
       "      <th>What is your weight in pounds?</th>\n",
       "      <th>What is your age in # of months?</th>\n",
       "      <th>How many months of paid experience did you have before you started your graduate degree at UTA?</th>\n",
       "      <th>What is your gender</th>\n",
       "      <th>nan</th>\n",
       "      <th>How many months of unpaid experience did you have before you started your graduate degree at UTA?</th>\n",
       "    </tr>\n",
       "  </thead>\n",
       "  <tbody>\n",
       "    <tr>\n",
       "      <th>3</th>\n",
       "      <td>NaN</td>\n",
       "      <td>NaN</td>\n",
       "      <td>NaN</td>\n",
       "      <td>NaN</td>\n",
       "      <td>NaN</td>\n",
       "      <td>NaN</td>\n",
       "      <td>NaN</td>\n",
       "    </tr>\n",
       "    <tr>\n",
       "      <th>4</th>\n",
       "      <td>64.0</td>\n",
       "      <td>124.0</td>\n",
       "      <td>300.5</td>\n",
       "      <td>0.0</td>\n",
       "      <td>NaN</td>\n",
       "      <td>1.0</td>\n",
       "      <td>6.0</td>\n",
       "    </tr>\n",
       "    <tr>\n",
       "      <th>5</th>\n",
       "      <td>70.0</td>\n",
       "      <td>211.6</td>\n",
       "      <td>279.0</td>\n",
       "      <td>0.0</td>\n",
       "      <td>1.0</td>\n",
       "      <td>0.0</td>\n",
       "      <td>0.0</td>\n",
       "    </tr>\n",
       "    <tr>\n",
       "      <th>6</th>\n",
       "      <td>70</td>\n",
       "      <td>200</td>\n",
       "      <td>303</td>\n",
       "      <td>24</td>\n",
       "      <td>1</td>\n",
       "      <td>0</td>\n",
       "      <td>0</td>\n",
       "    </tr>\n",
       "    <tr>\n",
       "      <th>7</th>\n",
       "      <td>69</td>\n",
       "      <td>124</td>\n",
       "      <td>285</td>\n",
       "      <td>18</td>\n",
       "      <td>1</td>\n",
       "      <td>0</td>\n",
       "      <td>0</td>\n",
       "    </tr>\n",
       "    <tr>\n",
       "      <th>...</th>\n",
       "      <td>...</td>\n",
       "      <td>...</td>\n",
       "      <td>...</td>\n",
       "      <td>...</td>\n",
       "      <td>...</td>\n",
       "      <td>...</td>\n",
       "      <td>...</td>\n",
       "    </tr>\n",
       "    <tr>\n",
       "      <th>76</th>\n",
       "      <td>64.0</td>\n",
       "      <td>121.25</td>\n",
       "      <td>269.0</td>\n",
       "      <td>3.0</td>\n",
       "      <td>0.0</td>\n",
       "      <td>1.0</td>\n",
       "      <td>0.0</td>\n",
       "    </tr>\n",
       "    <tr>\n",
       "      <th>77</th>\n",
       "      <td>70.0</td>\n",
       "      <td>158.73</td>\n",
       "      <td>312.0</td>\n",
       "      <td>0.0</td>\n",
       "      <td>1.0</td>\n",
       "      <td>0.0</td>\n",
       "      <td>0.0</td>\n",
       "    </tr>\n",
       "    <tr>\n",
       "      <th>78</th>\n",
       "      <td>67.2</td>\n",
       "      <td>125.66</td>\n",
       "      <td>281.0</td>\n",
       "      <td>8.0</td>\n",
       "      <td>0.0</td>\n",
       "      <td>1.0</td>\n",
       "      <td>0.0</td>\n",
       "    </tr>\n",
       "    <tr>\n",
       "      <th>79</th>\n",
       "      <td>72.0</td>\n",
       "      <td>160.937</td>\n",
       "      <td>276.0</td>\n",
       "      <td>0.0</td>\n",
       "      <td>1.0</td>\n",
       "      <td>0.0</td>\n",
       "      <td>0.0</td>\n",
       "    </tr>\n",
       "    <tr>\n",
       "      <th>80</th>\n",
       "      <td>69.0</td>\n",
       "      <td>156.0</td>\n",
       "      <td>286.0</td>\n",
       "      <td>13.0</td>\n",
       "      <td>NaN</td>\n",
       "      <td>NaN</td>\n",
       "      <td>NaN</td>\n",
       "    </tr>\n",
       "  </tbody>\n",
       "</table>\n",
       "<p>78 rows × 7 columns</p>\n",
       "</div>"
      ],
      "text/plain": [
       "   What is your height in inches? What is your weight in pounds?  \\\n",
       "3                             NaN                            NaN   \n",
       "4                            64.0                          124.0   \n",
       "5                            70.0                          211.6   \n",
       "6                              70                            200   \n",
       "7                              69                            124   \n",
       "..                            ...                            ...   \n",
       "76                           64.0                         121.25   \n",
       "77                           70.0                         158.73   \n",
       "78                           67.2                         125.66   \n",
       "79                           72.0                        160.937   \n",
       "80                           69.0                          156.0   \n",
       "\n",
       "   What is your age in # of months?  \\\n",
       "3                               NaN   \n",
       "4                             300.5   \n",
       "5                             279.0   \n",
       "6                               303   \n",
       "7                               285   \n",
       "..                              ...   \n",
       "76                            269.0   \n",
       "77                            312.0   \n",
       "78                            281.0   \n",
       "79                            276.0   \n",
       "80                            286.0   \n",
       "\n",
       "   How many months of paid experience did you have before you started your graduate degree at UTA?  \\\n",
       "3                                                 NaN                                                \n",
       "4                                                 0.0                                                \n",
       "5                                                 0.0                                                \n",
       "6                                                  24                                                \n",
       "7                                                  18                                                \n",
       "..                                                ...                                                \n",
       "76                                                3.0                                                \n",
       "77                                                0.0                                                \n",
       "78                                                8.0                                                \n",
       "79                                                0.0                                                \n",
       "80                                               13.0                                                \n",
       "\n",
       "   What is your gender  nan  \\\n",
       "3                  NaN  NaN   \n",
       "4                  NaN  1.0   \n",
       "5                  1.0  0.0   \n",
       "6                    1    0   \n",
       "7                    1    0   \n",
       "..                 ...  ...   \n",
       "76                 0.0  1.0   \n",
       "77                 1.0  0.0   \n",
       "78                 0.0  1.0   \n",
       "79                 1.0  0.0   \n",
       "80                 NaN  NaN   \n",
       "\n",
       "   How many months of unpaid experience did you have before you started your graduate degree at UTA?  \n",
       "3                                                 NaN                                                 \n",
       "4                                                 6.0                                                 \n",
       "5                                                 0.0                                                 \n",
       "6                                                   0                                                 \n",
       "7                                                   0                                                 \n",
       "..                                                ...                                                 \n",
       "76                                                0.0                                                 \n",
       "77                                                0.0                                                 \n",
       "78                                                0.0                                                 \n",
       "79                                                0.0                                                 \n",
       "80                                                NaN                                                 \n",
       "\n",
       "[78 rows x 7 columns]"
      ]
     },
     "execution_count": 654,
     "metadata": {},
     "output_type": "execute_result"
    }
   ],
   "source": [
    "df_new"
   ]
  },
  {
   "cell_type": "raw",
   "id": "d15d7788",
   "metadata": {},
   "source": [
    "Resetting the index so to start from 0"
   ]
  },
  {
   "cell_type": "code",
   "execution_count": 656,
   "id": "14fb751c",
   "metadata": {},
   "outputs": [],
   "source": [
    "df_new.reset_index(inplace=True,drop=True)"
   ]
  },
  {
   "cell_type": "code",
   "execution_count": 657,
   "id": "97d22a51",
   "metadata": {},
   "outputs": [
    {
     "data": {
      "text/html": [
       "<div>\n",
       "<style scoped>\n",
       "    .dataframe tbody tr th:only-of-type {\n",
       "        vertical-align: middle;\n",
       "    }\n",
       "\n",
       "    .dataframe tbody tr th {\n",
       "        vertical-align: top;\n",
       "    }\n",
       "\n",
       "    .dataframe thead th {\n",
       "        text-align: right;\n",
       "    }\n",
       "</style>\n",
       "<table border=\"1\" class=\"dataframe\">\n",
       "  <thead>\n",
       "    <tr style=\"text-align: right;\">\n",
       "      <th></th>\n",
       "      <th>What is your height in inches?</th>\n",
       "      <th>What is your weight in pounds?</th>\n",
       "      <th>What is your age in # of months?</th>\n",
       "      <th>How many months of paid experience did you have before you started your graduate degree at UTA?</th>\n",
       "      <th>What is your gender</th>\n",
       "      <th>nan</th>\n",
       "      <th>How many months of unpaid experience did you have before you started your graduate degree at UTA?</th>\n",
       "    </tr>\n",
       "  </thead>\n",
       "  <tbody>\n",
       "    <tr>\n",
       "      <th>0</th>\n",
       "      <td>NaN</td>\n",
       "      <td>NaN</td>\n",
       "      <td>NaN</td>\n",
       "      <td>NaN</td>\n",
       "      <td>NaN</td>\n",
       "      <td>NaN</td>\n",
       "      <td>NaN</td>\n",
       "    </tr>\n",
       "    <tr>\n",
       "      <th>1</th>\n",
       "      <td>64.0</td>\n",
       "      <td>124.0</td>\n",
       "      <td>300.5</td>\n",
       "      <td>0.0</td>\n",
       "      <td>NaN</td>\n",
       "      <td>1.0</td>\n",
       "      <td>6.0</td>\n",
       "    </tr>\n",
       "    <tr>\n",
       "      <th>2</th>\n",
       "      <td>70.0</td>\n",
       "      <td>211.6</td>\n",
       "      <td>279.0</td>\n",
       "      <td>0.0</td>\n",
       "      <td>1.0</td>\n",
       "      <td>0.0</td>\n",
       "      <td>0.0</td>\n",
       "    </tr>\n",
       "    <tr>\n",
       "      <th>3</th>\n",
       "      <td>70</td>\n",
       "      <td>200</td>\n",
       "      <td>303</td>\n",
       "      <td>24</td>\n",
       "      <td>1</td>\n",
       "      <td>0</td>\n",
       "      <td>0</td>\n",
       "    </tr>\n",
       "    <tr>\n",
       "      <th>4</th>\n",
       "      <td>69</td>\n",
       "      <td>124</td>\n",
       "      <td>285</td>\n",
       "      <td>18</td>\n",
       "      <td>1</td>\n",
       "      <td>0</td>\n",
       "      <td>0</td>\n",
       "    </tr>\n",
       "    <tr>\n",
       "      <th>...</th>\n",
       "      <td>...</td>\n",
       "      <td>...</td>\n",
       "      <td>...</td>\n",
       "      <td>...</td>\n",
       "      <td>...</td>\n",
       "      <td>...</td>\n",
       "      <td>...</td>\n",
       "    </tr>\n",
       "    <tr>\n",
       "      <th>73</th>\n",
       "      <td>64.0</td>\n",
       "      <td>121.25</td>\n",
       "      <td>269.0</td>\n",
       "      <td>3.0</td>\n",
       "      <td>0.0</td>\n",
       "      <td>1.0</td>\n",
       "      <td>0.0</td>\n",
       "    </tr>\n",
       "    <tr>\n",
       "      <th>74</th>\n",
       "      <td>70.0</td>\n",
       "      <td>158.73</td>\n",
       "      <td>312.0</td>\n",
       "      <td>0.0</td>\n",
       "      <td>1.0</td>\n",
       "      <td>0.0</td>\n",
       "      <td>0.0</td>\n",
       "    </tr>\n",
       "    <tr>\n",
       "      <th>75</th>\n",
       "      <td>67.2</td>\n",
       "      <td>125.66</td>\n",
       "      <td>281.0</td>\n",
       "      <td>8.0</td>\n",
       "      <td>0.0</td>\n",
       "      <td>1.0</td>\n",
       "      <td>0.0</td>\n",
       "    </tr>\n",
       "    <tr>\n",
       "      <th>76</th>\n",
       "      <td>72.0</td>\n",
       "      <td>160.937</td>\n",
       "      <td>276.0</td>\n",
       "      <td>0.0</td>\n",
       "      <td>1.0</td>\n",
       "      <td>0.0</td>\n",
       "      <td>0.0</td>\n",
       "    </tr>\n",
       "    <tr>\n",
       "      <th>77</th>\n",
       "      <td>69.0</td>\n",
       "      <td>156.0</td>\n",
       "      <td>286.0</td>\n",
       "      <td>13.0</td>\n",
       "      <td>NaN</td>\n",
       "      <td>NaN</td>\n",
       "      <td>NaN</td>\n",
       "    </tr>\n",
       "  </tbody>\n",
       "</table>\n",
       "<p>78 rows × 7 columns</p>\n",
       "</div>"
      ],
      "text/plain": [
       "   What is your height in inches? What is your weight in pounds?  \\\n",
       "0                             NaN                            NaN   \n",
       "1                            64.0                          124.0   \n",
       "2                            70.0                          211.6   \n",
       "3                              70                            200   \n",
       "4                              69                            124   \n",
       "..                            ...                            ...   \n",
       "73                           64.0                         121.25   \n",
       "74                           70.0                         158.73   \n",
       "75                           67.2                         125.66   \n",
       "76                           72.0                        160.937   \n",
       "77                           69.0                          156.0   \n",
       "\n",
       "   What is your age in # of months?  \\\n",
       "0                               NaN   \n",
       "1                             300.5   \n",
       "2                             279.0   \n",
       "3                               303   \n",
       "4                               285   \n",
       "..                              ...   \n",
       "73                            269.0   \n",
       "74                            312.0   \n",
       "75                            281.0   \n",
       "76                            276.0   \n",
       "77                            286.0   \n",
       "\n",
       "   How many months of paid experience did you have before you started your graduate degree at UTA?  \\\n",
       "0                                                 NaN                                                \n",
       "1                                                 0.0                                                \n",
       "2                                                 0.0                                                \n",
       "3                                                  24                                                \n",
       "4                                                  18                                                \n",
       "..                                                ...                                                \n",
       "73                                                3.0                                                \n",
       "74                                                0.0                                                \n",
       "75                                                8.0                                                \n",
       "76                                                0.0                                                \n",
       "77                                               13.0                                                \n",
       "\n",
       "   What is your gender  nan  \\\n",
       "0                  NaN  NaN   \n",
       "1                  NaN  1.0   \n",
       "2                  1.0  0.0   \n",
       "3                    1    0   \n",
       "4                    1    0   \n",
       "..                 ...  ...   \n",
       "73                 0.0  1.0   \n",
       "74                 1.0  0.0   \n",
       "75                 0.0  1.0   \n",
       "76                 1.0  0.0   \n",
       "77                 NaN  NaN   \n",
       "\n",
       "   How many months of unpaid experience did you have before you started your graduate degree at UTA?  \n",
       "0                                                 NaN                                                 \n",
       "1                                                 6.0                                                 \n",
       "2                                                 0.0                                                 \n",
       "3                                                   0                                                 \n",
       "4                                                   0                                                 \n",
       "..                                                ...                                                 \n",
       "73                                                0.0                                                 \n",
       "74                                                0.0                                                 \n",
       "75                                                0.0                                                 \n",
       "76                                                0.0                                                 \n",
       "77                                                NaN                                                 \n",
       "\n",
       "[78 rows x 7 columns]"
      ]
     },
     "execution_count": 657,
     "metadata": {},
     "output_type": "execute_result"
    }
   ],
   "source": [
    "df_new"
   ]
  },
  {
   "cell_type": "raw",
   "id": "e96618a2",
   "metadata": {},
   "source": [
    "Change columns to their final names"
   ]
  },
  {
   "cell_type": "code",
   "execution_count": 658,
   "id": "25a448f0",
   "metadata": {},
   "outputs": [],
   "source": [
    "col_rename={\"What is your height in inches?\":\"Height\",\"What is your weight in pounds?\":\"Weight\",\"What is your age in # of months?\":\"Age(Months)\",\"How many months of paid experience did you have before you started your graduate degree at UTA?\":\"Paid Experience(month)\",\"What is your gender\":\"Sex_Male\",\"nan\":\"Sex_Female\",\"How many months of unpaid experience did you have before you started your graduate degree at UTA?\":\"Unpaid Experience(month)\"}"
   ]
  },
  {
   "cell_type": "code",
   "execution_count": 659,
   "id": "93f73aa1",
   "metadata": {},
   "outputs": [
    {
     "name": "stderr",
     "output_type": "stream",
     "text": [
      "C:\\ProgramData\\Anaconda3\\lib\\site-packages\\pandas\\core\\frame.py:5039: SettingWithCopyWarning: \n",
      "A value is trying to be set on a copy of a slice from a DataFrame\n",
      "\n",
      "See the caveats in the documentation: https://pandas.pydata.org/pandas-docs/stable/user_guide/indexing.html#returning-a-view-versus-a-copy\n",
      "  return super().rename(\n"
     ]
    }
   ],
   "source": [
    "df_new.rename(columns=col_rename,inplace=True)"
   ]
  },
  {
   "cell_type": "code",
   "execution_count": 660,
   "id": "ba72b2c3",
   "metadata": {},
   "outputs": [
    {
     "data": {
      "text/html": [
       "<div>\n",
       "<style scoped>\n",
       "    .dataframe tbody tr th:only-of-type {\n",
       "        vertical-align: middle;\n",
       "    }\n",
       "\n",
       "    .dataframe tbody tr th {\n",
       "        vertical-align: top;\n",
       "    }\n",
       "\n",
       "    .dataframe thead th {\n",
       "        text-align: right;\n",
       "    }\n",
       "</style>\n",
       "<table border=\"1\" class=\"dataframe\">\n",
       "  <thead>\n",
       "    <tr style=\"text-align: right;\">\n",
       "      <th></th>\n",
       "      <th>Height</th>\n",
       "      <th>Weight</th>\n",
       "      <th>Age(Months)</th>\n",
       "      <th>Paid Experience(month)</th>\n",
       "      <th>Sex_Male</th>\n",
       "      <th>Sex_Female</th>\n",
       "      <th>Unpaid Experience(month)</th>\n",
       "    </tr>\n",
       "  </thead>\n",
       "  <tbody>\n",
       "    <tr>\n",
       "      <th>0</th>\n",
       "      <td>NaN</td>\n",
       "      <td>NaN</td>\n",
       "      <td>NaN</td>\n",
       "      <td>NaN</td>\n",
       "      <td>NaN</td>\n",
       "      <td>NaN</td>\n",
       "      <td>NaN</td>\n",
       "    </tr>\n",
       "    <tr>\n",
       "      <th>1</th>\n",
       "      <td>64.0</td>\n",
       "      <td>124.0</td>\n",
       "      <td>300.5</td>\n",
       "      <td>0.0</td>\n",
       "      <td>NaN</td>\n",
       "      <td>1.0</td>\n",
       "      <td>6.0</td>\n",
       "    </tr>\n",
       "    <tr>\n",
       "      <th>2</th>\n",
       "      <td>70.0</td>\n",
       "      <td>211.6</td>\n",
       "      <td>279.0</td>\n",
       "      <td>0.0</td>\n",
       "      <td>1.0</td>\n",
       "      <td>0.0</td>\n",
       "      <td>0.0</td>\n",
       "    </tr>\n",
       "    <tr>\n",
       "      <th>3</th>\n",
       "      <td>70</td>\n",
       "      <td>200</td>\n",
       "      <td>303</td>\n",
       "      <td>24</td>\n",
       "      <td>1</td>\n",
       "      <td>0</td>\n",
       "      <td>0</td>\n",
       "    </tr>\n",
       "    <tr>\n",
       "      <th>4</th>\n",
       "      <td>69</td>\n",
       "      <td>124</td>\n",
       "      <td>285</td>\n",
       "      <td>18</td>\n",
       "      <td>1</td>\n",
       "      <td>0</td>\n",
       "      <td>0</td>\n",
       "    </tr>\n",
       "    <tr>\n",
       "      <th>...</th>\n",
       "      <td>...</td>\n",
       "      <td>...</td>\n",
       "      <td>...</td>\n",
       "      <td>...</td>\n",
       "      <td>...</td>\n",
       "      <td>...</td>\n",
       "      <td>...</td>\n",
       "    </tr>\n",
       "    <tr>\n",
       "      <th>73</th>\n",
       "      <td>64.0</td>\n",
       "      <td>121.25</td>\n",
       "      <td>269.0</td>\n",
       "      <td>3.0</td>\n",
       "      <td>0.0</td>\n",
       "      <td>1.0</td>\n",
       "      <td>0.0</td>\n",
       "    </tr>\n",
       "    <tr>\n",
       "      <th>74</th>\n",
       "      <td>70.0</td>\n",
       "      <td>158.73</td>\n",
       "      <td>312.0</td>\n",
       "      <td>0.0</td>\n",
       "      <td>1.0</td>\n",
       "      <td>0.0</td>\n",
       "      <td>0.0</td>\n",
       "    </tr>\n",
       "    <tr>\n",
       "      <th>75</th>\n",
       "      <td>67.2</td>\n",
       "      <td>125.66</td>\n",
       "      <td>281.0</td>\n",
       "      <td>8.0</td>\n",
       "      <td>0.0</td>\n",
       "      <td>1.0</td>\n",
       "      <td>0.0</td>\n",
       "    </tr>\n",
       "    <tr>\n",
       "      <th>76</th>\n",
       "      <td>72.0</td>\n",
       "      <td>160.937</td>\n",
       "      <td>276.0</td>\n",
       "      <td>0.0</td>\n",
       "      <td>1.0</td>\n",
       "      <td>0.0</td>\n",
       "      <td>0.0</td>\n",
       "    </tr>\n",
       "    <tr>\n",
       "      <th>77</th>\n",
       "      <td>69.0</td>\n",
       "      <td>156.0</td>\n",
       "      <td>286.0</td>\n",
       "      <td>13.0</td>\n",
       "      <td>NaN</td>\n",
       "      <td>NaN</td>\n",
       "      <td>NaN</td>\n",
       "    </tr>\n",
       "  </tbody>\n",
       "</table>\n",
       "<p>78 rows × 7 columns</p>\n",
       "</div>"
      ],
      "text/plain": [
       "   Height   Weight Age(Months) Paid Experience(month) Sex_Male Sex_Female  \\\n",
       "0     NaN      NaN         NaN                    NaN      NaN        NaN   \n",
       "1    64.0    124.0       300.5                    0.0      NaN        1.0   \n",
       "2    70.0    211.6       279.0                    0.0      1.0        0.0   \n",
       "3      70      200         303                     24        1          0   \n",
       "4      69      124         285                     18        1          0   \n",
       "..    ...      ...         ...                    ...      ...        ...   \n",
       "73   64.0   121.25       269.0                    3.0      0.0        1.0   \n",
       "74   70.0   158.73       312.0                    0.0      1.0        0.0   \n",
       "75   67.2   125.66       281.0                    8.0      0.0        1.0   \n",
       "76   72.0  160.937       276.0                    0.0      1.0        0.0   \n",
       "77   69.0    156.0       286.0                   13.0      NaN        NaN   \n",
       "\n",
       "   Unpaid Experience(month)  \n",
       "0                       NaN  \n",
       "1                       6.0  \n",
       "2                       0.0  \n",
       "3                         0  \n",
       "4                         0  \n",
       "..                      ...  \n",
       "73                      0.0  \n",
       "74                      0.0  \n",
       "75                      0.0  \n",
       "76                      0.0  \n",
       "77                      NaN  \n",
       "\n",
       "[78 rows x 7 columns]"
      ]
     },
     "execution_count": 660,
     "metadata": {},
     "output_type": "execute_result"
    }
   ],
   "source": [
    "df_new"
   ]
  },
  {
   "cell_type": "code",
   "execution_count": 661,
   "id": "b0f2ee1a",
   "metadata": {},
   "outputs": [
    {
     "data": {
      "text/plain": [
       "0.0    47\n",
       "1.0    20\n",
       "Name: Sex_Female, dtype: int64"
      ]
     },
     "execution_count": 661,
     "metadata": {},
     "output_type": "execute_result"
    }
   ],
   "source": [
    "df_new['Sex_Female'].value_counts()"
   ]
  },
  {
   "cell_type": "code",
   "execution_count": 662,
   "id": "c21f19df",
   "metadata": {},
   "outputs": [
    {
     "data": {
      "text/plain": [
       "1.0    53\n",
       "0.0    20\n",
       "Name: Sex_Male, dtype: int64"
      ]
     },
     "execution_count": 662,
     "metadata": {},
     "output_type": "execute_result"
    }
   ],
   "source": [
    "df_new['Sex_Male'].value_counts()\n"
   ]
  },
  {
   "cell_type": "raw",
   "id": "10737b49",
   "metadata": {},
   "source": [
    "Filling Nan values in Sex_Female and Sex_Male column to \"nan\""
   ]
  },
  {
   "cell_type": "code",
   "execution_count": 666,
   "id": "26d5df8f",
   "metadata": {
    "scrolled": true
   },
   "outputs": [],
   "source": [
    "df_new['Sex_Female'].fillna(\"nan\",inplace=True)\n",
    "df_new['Sex_Male'].fillna(\"nan\",inplace=True)"
   ]
  },
  {
   "cell_type": "code",
   "execution_count": 667,
   "id": "54677355",
   "metadata": {},
   "outputs": [
    {
     "data": {
      "text/plain": [
       "Index([0.0, 1.0, 'nan'], dtype='object')"
      ]
     },
     "execution_count": 667,
     "metadata": {},
     "output_type": "execute_result"
    }
   ],
   "source": [
    "df_new['Sex_Female'].value_counts().index"
   ]
  },
  {
   "cell_type": "code",
   "execution_count": 668,
   "id": "8f9bd208",
   "metadata": {},
   "outputs": [
    {
     "data": {
      "text/plain": [
       "0"
      ]
     },
     "execution_count": 668,
     "metadata": {},
     "output_type": "execute_result"
    }
   ],
   "source": [
    "df_new['Sex_Female'].isnull().sum()"
   ]
  },
  {
   "cell_type": "raw",
   "id": "958395b5",
   "metadata": {},
   "source": [
    "Making a list of all values in both the sex columns, Then imputing them accordingly such that they comes in exact one hot encoded way"
   ]
  },
  {
   "cell_type": "code",
   "execution_count": 669,
   "id": "6073ec4d",
   "metadata": {},
   "outputs": [],
   "source": [
    "\n",
    "male=list(df_new['Sex_Male'])\n",
    "female=list(df_new['Sex_Female'])"
   ]
  },
  {
   "cell_type": "code",
   "execution_count": 670,
   "id": "4b559e3c",
   "metadata": {},
   "outputs": [],
   "source": [
    "for i in range(len(male)):\n",
    "    if male[i]==\"nan\" and female[i]==1:\n",
    "        male[i]=0\n",
    "    elif male[i]==\"nan\" and female[i]==0:\n",
    "        male[i]=1\n",
    "    elif male[i]==0 and female[i]==\"nan\":\n",
    "        female[i]=1\n",
    "    elif male[i]==1 and female[i]==\"nan\":\n",
    "        female[i]=0\n",
    "    elif female[i]==0 and male[i]==\"nan\":\n",
    "        male[i]=1\n",
    "    elif female[i]==1 and male[i]==\"nan\":\n",
    "        male[i]=0\n",
    "    \n",
    "    elif female[i]==\"nan\" and male[i]==\"nan\":\n",
    "        male[i]=1 \n",
    "        female[i]=0\n",
    "        \n",
    "    \n",
    "        "
   ]
  },
  {
   "cell_type": "code",
   "execution_count": 671,
   "id": "403c918a",
   "metadata": {
    "scrolled": true
   },
   "outputs": [
    {
     "name": "stderr",
     "output_type": "stream",
     "text": [
      "C:\\Users\\mritu\\AppData\\Local\\Temp/ipykernel_1960/2397644169.py:1: SettingWithCopyWarning: \n",
      "A value is trying to be set on a copy of a slice from a DataFrame.\n",
      "Try using .loc[row_indexer,col_indexer] = value instead\n",
      "\n",
      "See the caveats in the documentation: https://pandas.pydata.org/pandas-docs/stable/user_guide/indexing.html#returning-a-view-versus-a-copy\n",
      "  df_new['Sex_Female']=female\n",
      "C:\\Users\\mritu\\AppData\\Local\\Temp/ipykernel_1960/2397644169.py:2: SettingWithCopyWarning: \n",
      "A value is trying to be set on a copy of a slice from a DataFrame.\n",
      "Try using .loc[row_indexer,col_indexer] = value instead\n",
      "\n",
      "See the caveats in the documentation: https://pandas.pydata.org/pandas-docs/stable/user_guide/indexing.html#returning-a-view-versus-a-copy\n",
      "  df_new['Sex_Male']=male\n"
     ]
    }
   ],
   "source": [
    "df_new['Sex_Female']=female\n",
    "df_new['Sex_Male']=male"
   ]
  },
  {
   "cell_type": "code",
   "execution_count": 672,
   "id": "c8f0c128",
   "metadata": {},
   "outputs": [
    {
     "data": {
      "text/html": [
       "<div>\n",
       "<style scoped>\n",
       "    .dataframe tbody tr th:only-of-type {\n",
       "        vertical-align: middle;\n",
       "    }\n",
       "\n",
       "    .dataframe tbody tr th {\n",
       "        vertical-align: top;\n",
       "    }\n",
       "\n",
       "    .dataframe thead th {\n",
       "        text-align: right;\n",
       "    }\n",
       "</style>\n",
       "<table border=\"1\" class=\"dataframe\">\n",
       "  <thead>\n",
       "    <tr style=\"text-align: right;\">\n",
       "      <th></th>\n",
       "      <th>Height</th>\n",
       "      <th>Weight</th>\n",
       "      <th>Age(Months)</th>\n",
       "      <th>Paid Experience(month)</th>\n",
       "      <th>Sex_Male</th>\n",
       "      <th>Sex_Female</th>\n",
       "      <th>Unpaid Experience(month)</th>\n",
       "    </tr>\n",
       "  </thead>\n",
       "  <tbody>\n",
       "    <tr>\n",
       "      <th>0</th>\n",
       "      <td>NaN</td>\n",
       "      <td>NaN</td>\n",
       "      <td>NaN</td>\n",
       "      <td>NaN</td>\n",
       "      <td>1.0</td>\n",
       "      <td>0.0</td>\n",
       "      <td>NaN</td>\n",
       "    </tr>\n",
       "    <tr>\n",
       "      <th>1</th>\n",
       "      <td>64.0</td>\n",
       "      <td>124.0</td>\n",
       "      <td>300.5</td>\n",
       "      <td>0.0</td>\n",
       "      <td>0.0</td>\n",
       "      <td>1.0</td>\n",
       "      <td>6.0</td>\n",
       "    </tr>\n",
       "    <tr>\n",
       "      <th>2</th>\n",
       "      <td>70.0</td>\n",
       "      <td>211.6</td>\n",
       "      <td>279.0</td>\n",
       "      <td>0.0</td>\n",
       "      <td>1.0</td>\n",
       "      <td>0.0</td>\n",
       "      <td>0.0</td>\n",
       "    </tr>\n",
       "    <tr>\n",
       "      <th>3</th>\n",
       "      <td>70</td>\n",
       "      <td>200</td>\n",
       "      <td>303</td>\n",
       "      <td>24</td>\n",
       "      <td>1.0</td>\n",
       "      <td>0.0</td>\n",
       "      <td>0</td>\n",
       "    </tr>\n",
       "    <tr>\n",
       "      <th>4</th>\n",
       "      <td>69</td>\n",
       "      <td>124</td>\n",
       "      <td>285</td>\n",
       "      <td>18</td>\n",
       "      <td>1.0</td>\n",
       "      <td>0.0</td>\n",
       "      <td>0</td>\n",
       "    </tr>\n",
       "    <tr>\n",
       "      <th>...</th>\n",
       "      <td>...</td>\n",
       "      <td>...</td>\n",
       "      <td>...</td>\n",
       "      <td>...</td>\n",
       "      <td>...</td>\n",
       "      <td>...</td>\n",
       "      <td>...</td>\n",
       "    </tr>\n",
       "    <tr>\n",
       "      <th>73</th>\n",
       "      <td>64.0</td>\n",
       "      <td>121.25</td>\n",
       "      <td>269.0</td>\n",
       "      <td>3.0</td>\n",
       "      <td>0.0</td>\n",
       "      <td>1.0</td>\n",
       "      <td>0.0</td>\n",
       "    </tr>\n",
       "    <tr>\n",
       "      <th>74</th>\n",
       "      <td>70.0</td>\n",
       "      <td>158.73</td>\n",
       "      <td>312.0</td>\n",
       "      <td>0.0</td>\n",
       "      <td>1.0</td>\n",
       "      <td>0.0</td>\n",
       "      <td>0.0</td>\n",
       "    </tr>\n",
       "    <tr>\n",
       "      <th>75</th>\n",
       "      <td>67.2</td>\n",
       "      <td>125.66</td>\n",
       "      <td>281.0</td>\n",
       "      <td>8.0</td>\n",
       "      <td>0.0</td>\n",
       "      <td>1.0</td>\n",
       "      <td>0.0</td>\n",
       "    </tr>\n",
       "    <tr>\n",
       "      <th>76</th>\n",
       "      <td>72.0</td>\n",
       "      <td>160.937</td>\n",
       "      <td>276.0</td>\n",
       "      <td>0.0</td>\n",
       "      <td>1.0</td>\n",
       "      <td>0.0</td>\n",
       "      <td>0.0</td>\n",
       "    </tr>\n",
       "    <tr>\n",
       "      <th>77</th>\n",
       "      <td>69.0</td>\n",
       "      <td>156.0</td>\n",
       "      <td>286.0</td>\n",
       "      <td>13.0</td>\n",
       "      <td>1.0</td>\n",
       "      <td>0.0</td>\n",
       "      <td>NaN</td>\n",
       "    </tr>\n",
       "  </tbody>\n",
       "</table>\n",
       "<p>78 rows × 7 columns</p>\n",
       "</div>"
      ],
      "text/plain": [
       "   Height   Weight Age(Months) Paid Experience(month)  Sex_Male  Sex_Female  \\\n",
       "0     NaN      NaN         NaN                    NaN       1.0         0.0   \n",
       "1    64.0    124.0       300.5                    0.0       0.0         1.0   \n",
       "2    70.0    211.6       279.0                    0.0       1.0         0.0   \n",
       "3      70      200         303                     24       1.0         0.0   \n",
       "4      69      124         285                     18       1.0         0.0   \n",
       "..    ...      ...         ...                    ...       ...         ...   \n",
       "73   64.0   121.25       269.0                    3.0       0.0         1.0   \n",
       "74   70.0   158.73       312.0                    0.0       1.0         0.0   \n",
       "75   67.2   125.66       281.0                    8.0       0.0         1.0   \n",
       "76   72.0  160.937       276.0                    0.0       1.0         0.0   \n",
       "77   69.0    156.0       286.0                   13.0       1.0         0.0   \n",
       "\n",
       "   Unpaid Experience(month)  \n",
       "0                       NaN  \n",
       "1                       6.0  \n",
       "2                       0.0  \n",
       "3                         0  \n",
       "4                         0  \n",
       "..                      ...  \n",
       "73                      0.0  \n",
       "74                      0.0  \n",
       "75                      0.0  \n",
       "76                      0.0  \n",
       "77                      NaN  \n",
       "\n",
       "[78 rows x 7 columns]"
      ]
     },
     "execution_count": 672,
     "metadata": {},
     "output_type": "execute_result"
    }
   ],
   "source": [
    "df_new"
   ]
  },
  {
   "cell_type": "raw",
   "id": "554ddeea",
   "metadata": {},
   "source": [
    "Filling all columns to their median value since imputing with mean will lead to errors"
   ]
  },
  {
   "cell_type": "code",
   "execution_count": 673,
   "id": "20fe6f95",
   "metadata": {
    "scrolled": true
   },
   "outputs": [
    {
     "name": "stderr",
     "output_type": "stream",
     "text": [
      "C:\\ProgramData\\Anaconda3\\lib\\site-packages\\pandas\\core\\generic.py:6392: SettingWithCopyWarning: \n",
      "A value is trying to be set on a copy of a slice from a DataFrame\n",
      "\n",
      "See the caveats in the documentation: https://pandas.pydata.org/pandas-docs/stable/user_guide/indexing.html#returning-a-view-versus-a-copy\n",
      "  return self._update_inplace(result)\n",
      "C:\\ProgramData\\Anaconda3\\lib\\site-packages\\pandas\\core\\generic.py:6392: SettingWithCopyWarning: \n",
      "A value is trying to be set on a copy of a slice from a DataFrame\n",
      "\n",
      "See the caveats in the documentation: https://pandas.pydata.org/pandas-docs/stable/user_guide/indexing.html#returning-a-view-versus-a-copy\n",
      "  return self._update_inplace(result)\n",
      "C:\\ProgramData\\Anaconda3\\lib\\site-packages\\pandas\\core\\generic.py:6392: SettingWithCopyWarning: \n",
      "A value is trying to be set on a copy of a slice from a DataFrame\n",
      "\n",
      "See the caveats in the documentation: https://pandas.pydata.org/pandas-docs/stable/user_guide/indexing.html#returning-a-view-versus-a-copy\n",
      "  return self._update_inplace(result)\n",
      "C:\\ProgramData\\Anaconda3\\lib\\site-packages\\pandas\\core\\generic.py:6392: SettingWithCopyWarning: \n",
      "A value is trying to be set on a copy of a slice from a DataFrame\n",
      "\n",
      "See the caveats in the documentation: https://pandas.pydata.org/pandas-docs/stable/user_guide/indexing.html#returning-a-view-versus-a-copy\n",
      "  return self._update_inplace(result)\n",
      "C:\\ProgramData\\Anaconda3\\lib\\site-packages\\pandas\\core\\generic.py:6392: SettingWithCopyWarning: \n",
      "A value is trying to be set on a copy of a slice from a DataFrame\n",
      "\n",
      "See the caveats in the documentation: https://pandas.pydata.org/pandas-docs/stable/user_guide/indexing.html#returning-a-view-versus-a-copy\n",
      "  return self._update_inplace(result)\n"
     ]
    }
   ],
   "source": [
    "for col in df_new.columns:\n",
    "    df_new[col].fillna(df_new[col].median(),inplace=True)"
   ]
  },
  {
   "cell_type": "code",
   "execution_count": 674,
   "id": "941e956d",
   "metadata": {},
   "outputs": [
    {
     "data": {
      "text/html": [
       "<div>\n",
       "<style scoped>\n",
       "    .dataframe tbody tr th:only-of-type {\n",
       "        vertical-align: middle;\n",
       "    }\n",
       "\n",
       "    .dataframe tbody tr th {\n",
       "        vertical-align: top;\n",
       "    }\n",
       "\n",
       "    .dataframe thead th {\n",
       "        text-align: right;\n",
       "    }\n",
       "</style>\n",
       "<table border=\"1\" class=\"dataframe\">\n",
       "  <thead>\n",
       "    <tr style=\"text-align: right;\">\n",
       "      <th></th>\n",
       "      <th>Height</th>\n",
       "      <th>Weight</th>\n",
       "      <th>Age(Months)</th>\n",
       "      <th>Paid Experience(month)</th>\n",
       "      <th>Sex_Male</th>\n",
       "      <th>Sex_Female</th>\n",
       "      <th>Unpaid Experience(month)</th>\n",
       "    </tr>\n",
       "  </thead>\n",
       "  <tbody>\n",
       "    <tr>\n",
       "      <th>0</th>\n",
       "      <td>68.5</td>\n",
       "      <td>158.000</td>\n",
       "      <td>284.0</td>\n",
       "      <td>12.0</td>\n",
       "      <td>1.0</td>\n",
       "      <td>0.0</td>\n",
       "      <td>0.0</td>\n",
       "    </tr>\n",
       "    <tr>\n",
       "      <th>1</th>\n",
       "      <td>64.0</td>\n",
       "      <td>124.000</td>\n",
       "      <td>300.5</td>\n",
       "      <td>0.0</td>\n",
       "      <td>0.0</td>\n",
       "      <td>1.0</td>\n",
       "      <td>6.0</td>\n",
       "    </tr>\n",
       "    <tr>\n",
       "      <th>2</th>\n",
       "      <td>70.0</td>\n",
       "      <td>211.600</td>\n",
       "      <td>279.0</td>\n",
       "      <td>0.0</td>\n",
       "      <td>1.0</td>\n",
       "      <td>0.0</td>\n",
       "      <td>0.0</td>\n",
       "    </tr>\n",
       "    <tr>\n",
       "      <th>3</th>\n",
       "      <td>70.0</td>\n",
       "      <td>200.000</td>\n",
       "      <td>303.0</td>\n",
       "      <td>24.0</td>\n",
       "      <td>1.0</td>\n",
       "      <td>0.0</td>\n",
       "      <td>0.0</td>\n",
       "    </tr>\n",
       "    <tr>\n",
       "      <th>4</th>\n",
       "      <td>69.0</td>\n",
       "      <td>124.000</td>\n",
       "      <td>285.0</td>\n",
       "      <td>18.0</td>\n",
       "      <td>1.0</td>\n",
       "      <td>0.0</td>\n",
       "      <td>0.0</td>\n",
       "    </tr>\n",
       "    <tr>\n",
       "      <th>...</th>\n",
       "      <td>...</td>\n",
       "      <td>...</td>\n",
       "      <td>...</td>\n",
       "      <td>...</td>\n",
       "      <td>...</td>\n",
       "      <td>...</td>\n",
       "      <td>...</td>\n",
       "    </tr>\n",
       "    <tr>\n",
       "      <th>73</th>\n",
       "      <td>64.0</td>\n",
       "      <td>121.250</td>\n",
       "      <td>269.0</td>\n",
       "      <td>3.0</td>\n",
       "      <td>0.0</td>\n",
       "      <td>1.0</td>\n",
       "      <td>0.0</td>\n",
       "    </tr>\n",
       "    <tr>\n",
       "      <th>74</th>\n",
       "      <td>70.0</td>\n",
       "      <td>158.730</td>\n",
       "      <td>312.0</td>\n",
       "      <td>0.0</td>\n",
       "      <td>1.0</td>\n",
       "      <td>0.0</td>\n",
       "      <td>0.0</td>\n",
       "    </tr>\n",
       "    <tr>\n",
       "      <th>75</th>\n",
       "      <td>67.2</td>\n",
       "      <td>125.660</td>\n",
       "      <td>281.0</td>\n",
       "      <td>8.0</td>\n",
       "      <td>0.0</td>\n",
       "      <td>1.0</td>\n",
       "      <td>0.0</td>\n",
       "    </tr>\n",
       "    <tr>\n",
       "      <th>76</th>\n",
       "      <td>72.0</td>\n",
       "      <td>160.937</td>\n",
       "      <td>276.0</td>\n",
       "      <td>0.0</td>\n",
       "      <td>1.0</td>\n",
       "      <td>0.0</td>\n",
       "      <td>0.0</td>\n",
       "    </tr>\n",
       "    <tr>\n",
       "      <th>77</th>\n",
       "      <td>69.0</td>\n",
       "      <td>156.000</td>\n",
       "      <td>286.0</td>\n",
       "      <td>13.0</td>\n",
       "      <td>1.0</td>\n",
       "      <td>0.0</td>\n",
       "      <td>0.0</td>\n",
       "    </tr>\n",
       "  </tbody>\n",
       "</table>\n",
       "<p>78 rows × 7 columns</p>\n",
       "</div>"
      ],
      "text/plain": [
       "    Height   Weight  Age(Months)  Paid Experience(month)  Sex_Male  \\\n",
       "0     68.5  158.000        284.0                    12.0       1.0   \n",
       "1     64.0  124.000        300.5                     0.0       0.0   \n",
       "2     70.0  211.600        279.0                     0.0       1.0   \n",
       "3     70.0  200.000        303.0                    24.0       1.0   \n",
       "4     69.0  124.000        285.0                    18.0       1.0   \n",
       "..     ...      ...          ...                     ...       ...   \n",
       "73    64.0  121.250        269.0                     3.0       0.0   \n",
       "74    70.0  158.730        312.0                     0.0       1.0   \n",
       "75    67.2  125.660        281.0                     8.0       0.0   \n",
       "76    72.0  160.937        276.0                     0.0       1.0   \n",
       "77    69.0  156.000        286.0                    13.0       1.0   \n",
       "\n",
       "    Sex_Female  Unpaid Experience(month)  \n",
       "0          0.0                       0.0  \n",
       "1          1.0                       6.0  \n",
       "2          0.0                       0.0  \n",
       "3          0.0                       0.0  \n",
       "4          0.0                       0.0  \n",
       "..         ...                       ...  \n",
       "73         1.0                       0.0  \n",
       "74         0.0                       0.0  \n",
       "75         1.0                       0.0  \n",
       "76         0.0                       0.0  \n",
       "77         0.0                       0.0  \n",
       "\n",
       "[78 rows x 7 columns]"
      ]
     },
     "execution_count": 674,
     "metadata": {},
     "output_type": "execute_result"
    }
   ],
   "source": [
    "df_new"
   ]
  },
  {
   "cell_type": "code",
   "execution_count": 675,
   "id": "bf006932",
   "metadata": {},
   "outputs": [
    {
     "data": {
      "text/plain": [
       "0.0    57\n",
       "1.0    21\n",
       "Name: Sex_Female, dtype: int64"
      ]
     },
     "execution_count": 675,
     "metadata": {},
     "output_type": "execute_result"
    }
   ],
   "source": [
    "df_new['Sex_Female'].value_counts()"
   ]
  },
  {
   "cell_type": "raw",
   "id": "8d1c5be2",
   "metadata": {},
   "source": [
    "Creating two new columns Experience in months by adding Paid and Unpaid experience.And creating Gender(M/F) column by adding M or F if male is their and if Female is their respectively"
   ]
  },
  {
   "cell_type": "code",
   "execution_count": 676,
   "id": "c2f25eb1",
   "metadata": {},
   "outputs": [],
   "source": [
    "# Solving columns\n",
    "\n",
    "total_ex=[]\n",
    "gender=[]\n",
    "for i in range(len(df_new['Sex_Male'])):\n",
    "    if (df_new['Sex_Female'][i]==0) and (df_new['Sex_Male'][i]==1):\n",
    "        gender.append(\"M\")\n",
    "    elif (df_new['Sex_Female'][i]==1) and (df_new['Sex_Male'][i]==0):\n",
    "        gender.append(\"F\")\n",
    "    total_ex.append(df_new['Paid Experience(month)'][i]+df_new['Unpaid Experience(month)'][i])"
   ]
  },
  {
   "cell_type": "code",
   "execution_count": 677,
   "id": "4964585c",
   "metadata": {
    "scrolled": true
   },
   "outputs": [
    {
     "name": "stderr",
     "output_type": "stream",
     "text": [
      "C:\\Users\\mritu\\AppData\\Local\\Temp/ipykernel_1960/3157746087.py:1: SettingWithCopyWarning: \n",
      "A value is trying to be set on a copy of a slice from a DataFrame.\n",
      "Try using .loc[row_indexer,col_indexer] = value instead\n",
      "\n",
      "See the caveats in the documentation: https://pandas.pydata.org/pandas-docs/stable/user_guide/indexing.html#returning-a-view-versus-a-copy\n",
      "  df_new['Experience(Months)']=total_ex\n",
      "C:\\Users\\mritu\\AppData\\Local\\Temp/ipykernel_1960/3157746087.py:2: SettingWithCopyWarning: \n",
      "A value is trying to be set on a copy of a slice from a DataFrame.\n",
      "Try using .loc[row_indexer,col_indexer] = value instead\n",
      "\n",
      "See the caveats in the documentation: https://pandas.pydata.org/pandas-docs/stable/user_guide/indexing.html#returning-a-view-versus-a-copy\n",
      "  df_new['Gender(M/F)']=gender\n"
     ]
    }
   ],
   "source": [
    "df_new['Experience(Months)']=total_ex\n",
    "df_new['Gender(M/F)']=gender"
   ]
  },
  {
   "cell_type": "code",
   "execution_count": 678,
   "id": "5ed14295",
   "metadata": {},
   "outputs": [
    {
     "data": {
      "text/html": [
       "<div>\n",
       "<style scoped>\n",
       "    .dataframe tbody tr th:only-of-type {\n",
       "        vertical-align: middle;\n",
       "    }\n",
       "\n",
       "    .dataframe tbody tr th {\n",
       "        vertical-align: top;\n",
       "    }\n",
       "\n",
       "    .dataframe thead th {\n",
       "        text-align: right;\n",
       "    }\n",
       "</style>\n",
       "<table border=\"1\" class=\"dataframe\">\n",
       "  <thead>\n",
       "    <tr style=\"text-align: right;\">\n",
       "      <th></th>\n",
       "      <th>Height</th>\n",
       "      <th>Weight</th>\n",
       "      <th>Age(Months)</th>\n",
       "      <th>Paid Experience(month)</th>\n",
       "      <th>Sex_Male</th>\n",
       "      <th>Sex_Female</th>\n",
       "      <th>Unpaid Experience(month)</th>\n",
       "      <th>Experience(Months)</th>\n",
       "      <th>Gender(M/F)</th>\n",
       "    </tr>\n",
       "  </thead>\n",
       "  <tbody>\n",
       "    <tr>\n",
       "      <th>0</th>\n",
       "      <td>68.5</td>\n",
       "      <td>158.000</td>\n",
       "      <td>284.0</td>\n",
       "      <td>12.0</td>\n",
       "      <td>1.0</td>\n",
       "      <td>0.0</td>\n",
       "      <td>0.0</td>\n",
       "      <td>12.0</td>\n",
       "      <td>M</td>\n",
       "    </tr>\n",
       "    <tr>\n",
       "      <th>1</th>\n",
       "      <td>64.0</td>\n",
       "      <td>124.000</td>\n",
       "      <td>300.5</td>\n",
       "      <td>0.0</td>\n",
       "      <td>0.0</td>\n",
       "      <td>1.0</td>\n",
       "      <td>6.0</td>\n",
       "      <td>6.0</td>\n",
       "      <td>F</td>\n",
       "    </tr>\n",
       "    <tr>\n",
       "      <th>2</th>\n",
       "      <td>70.0</td>\n",
       "      <td>211.600</td>\n",
       "      <td>279.0</td>\n",
       "      <td>0.0</td>\n",
       "      <td>1.0</td>\n",
       "      <td>0.0</td>\n",
       "      <td>0.0</td>\n",
       "      <td>0.0</td>\n",
       "      <td>M</td>\n",
       "    </tr>\n",
       "    <tr>\n",
       "      <th>3</th>\n",
       "      <td>70.0</td>\n",
       "      <td>200.000</td>\n",
       "      <td>303.0</td>\n",
       "      <td>24.0</td>\n",
       "      <td>1.0</td>\n",
       "      <td>0.0</td>\n",
       "      <td>0.0</td>\n",
       "      <td>24.0</td>\n",
       "      <td>M</td>\n",
       "    </tr>\n",
       "    <tr>\n",
       "      <th>4</th>\n",
       "      <td>69.0</td>\n",
       "      <td>124.000</td>\n",
       "      <td>285.0</td>\n",
       "      <td>18.0</td>\n",
       "      <td>1.0</td>\n",
       "      <td>0.0</td>\n",
       "      <td>0.0</td>\n",
       "      <td>18.0</td>\n",
       "      <td>M</td>\n",
       "    </tr>\n",
       "    <tr>\n",
       "      <th>...</th>\n",
       "      <td>...</td>\n",
       "      <td>...</td>\n",
       "      <td>...</td>\n",
       "      <td>...</td>\n",
       "      <td>...</td>\n",
       "      <td>...</td>\n",
       "      <td>...</td>\n",
       "      <td>...</td>\n",
       "      <td>...</td>\n",
       "    </tr>\n",
       "    <tr>\n",
       "      <th>73</th>\n",
       "      <td>64.0</td>\n",
       "      <td>121.250</td>\n",
       "      <td>269.0</td>\n",
       "      <td>3.0</td>\n",
       "      <td>0.0</td>\n",
       "      <td>1.0</td>\n",
       "      <td>0.0</td>\n",
       "      <td>3.0</td>\n",
       "      <td>F</td>\n",
       "    </tr>\n",
       "    <tr>\n",
       "      <th>74</th>\n",
       "      <td>70.0</td>\n",
       "      <td>158.730</td>\n",
       "      <td>312.0</td>\n",
       "      <td>0.0</td>\n",
       "      <td>1.0</td>\n",
       "      <td>0.0</td>\n",
       "      <td>0.0</td>\n",
       "      <td>0.0</td>\n",
       "      <td>M</td>\n",
       "    </tr>\n",
       "    <tr>\n",
       "      <th>75</th>\n",
       "      <td>67.2</td>\n",
       "      <td>125.660</td>\n",
       "      <td>281.0</td>\n",
       "      <td>8.0</td>\n",
       "      <td>0.0</td>\n",
       "      <td>1.0</td>\n",
       "      <td>0.0</td>\n",
       "      <td>8.0</td>\n",
       "      <td>F</td>\n",
       "    </tr>\n",
       "    <tr>\n",
       "      <th>76</th>\n",
       "      <td>72.0</td>\n",
       "      <td>160.937</td>\n",
       "      <td>276.0</td>\n",
       "      <td>0.0</td>\n",
       "      <td>1.0</td>\n",
       "      <td>0.0</td>\n",
       "      <td>0.0</td>\n",
       "      <td>0.0</td>\n",
       "      <td>M</td>\n",
       "    </tr>\n",
       "    <tr>\n",
       "      <th>77</th>\n",
       "      <td>69.0</td>\n",
       "      <td>156.000</td>\n",
       "      <td>286.0</td>\n",
       "      <td>13.0</td>\n",
       "      <td>1.0</td>\n",
       "      <td>0.0</td>\n",
       "      <td>0.0</td>\n",
       "      <td>13.0</td>\n",
       "      <td>M</td>\n",
       "    </tr>\n",
       "  </tbody>\n",
       "</table>\n",
       "<p>78 rows × 9 columns</p>\n",
       "</div>"
      ],
      "text/plain": [
       "    Height   Weight  Age(Months)  Paid Experience(month)  Sex_Male  \\\n",
       "0     68.5  158.000        284.0                    12.0       1.0   \n",
       "1     64.0  124.000        300.5                     0.0       0.0   \n",
       "2     70.0  211.600        279.0                     0.0       1.0   \n",
       "3     70.0  200.000        303.0                    24.0       1.0   \n",
       "4     69.0  124.000        285.0                    18.0       1.0   \n",
       "..     ...      ...          ...                     ...       ...   \n",
       "73    64.0  121.250        269.0                     3.0       0.0   \n",
       "74    70.0  158.730        312.0                     0.0       1.0   \n",
       "75    67.2  125.660        281.0                     8.0       0.0   \n",
       "76    72.0  160.937        276.0                     0.0       1.0   \n",
       "77    69.0  156.000        286.0                    13.0       1.0   \n",
       "\n",
       "    Sex_Female  Unpaid Experience(month)  Experience(Months) Gender(M/F)  \n",
       "0          0.0                       0.0                12.0           M  \n",
       "1          1.0                       6.0                 6.0           F  \n",
       "2          0.0                       0.0                 0.0           M  \n",
       "3          0.0                       0.0                24.0           M  \n",
       "4          0.0                       0.0                18.0           M  \n",
       "..         ...                       ...                 ...         ...  \n",
       "73         1.0                       0.0                 3.0           F  \n",
       "74         0.0                       0.0                 0.0           M  \n",
       "75         1.0                       0.0                 8.0           F  \n",
       "76         0.0                       0.0                 0.0           M  \n",
       "77         0.0                       0.0                13.0           M  \n",
       "\n",
       "[78 rows x 9 columns]"
      ]
     },
     "execution_count": 678,
     "metadata": {},
     "output_type": "execute_result"
    }
   ],
   "source": [
    "df_new"
   ]
  },
  {
   "cell_type": "raw",
   "id": "6dc089e3",
   "metadata": {},
   "source": [
    "Deleting the extra columns"
   ]
  },
  {
   "cell_type": "code",
   "execution_count": 679,
   "id": "3dacb918",
   "metadata": {
    "scrolled": true
   },
   "outputs": [
    {
     "name": "stderr",
     "output_type": "stream",
     "text": [
      "C:\\ProgramData\\Anaconda3\\lib\\site-packages\\pandas\\core\\frame.py:4906: SettingWithCopyWarning: \n",
      "A value is trying to be set on a copy of a slice from a DataFrame\n",
      "\n",
      "See the caveats in the documentation: https://pandas.pydata.org/pandas-docs/stable/user_guide/indexing.html#returning-a-view-versus-a-copy\n",
      "  return super().drop(\n"
     ]
    }
   ],
   "source": [
    "df_new.drop(columns=['Paid Experience(month)','Sex_Male','Sex_Female','Unpaid Experience(month)'],axis=1,inplace=True)"
   ]
  },
  {
   "cell_type": "code",
   "execution_count": 680,
   "id": "1ffcb65a",
   "metadata": {},
   "outputs": [
    {
     "data": {
      "text/html": [
       "<div>\n",
       "<style scoped>\n",
       "    .dataframe tbody tr th:only-of-type {\n",
       "        vertical-align: middle;\n",
       "    }\n",
       "\n",
       "    .dataframe tbody tr th {\n",
       "        vertical-align: top;\n",
       "    }\n",
       "\n",
       "    .dataframe thead th {\n",
       "        text-align: right;\n",
       "    }\n",
       "</style>\n",
       "<table border=\"1\" class=\"dataframe\">\n",
       "  <thead>\n",
       "    <tr style=\"text-align: right;\">\n",
       "      <th></th>\n",
       "      <th>Height</th>\n",
       "      <th>Weight</th>\n",
       "      <th>Age(Months)</th>\n",
       "      <th>Experience(Months)</th>\n",
       "      <th>Gender(M/F)</th>\n",
       "    </tr>\n",
       "  </thead>\n",
       "  <tbody>\n",
       "    <tr>\n",
       "      <th>0</th>\n",
       "      <td>68.5</td>\n",
       "      <td>158.000</td>\n",
       "      <td>284.0</td>\n",
       "      <td>12.0</td>\n",
       "      <td>M</td>\n",
       "    </tr>\n",
       "    <tr>\n",
       "      <th>1</th>\n",
       "      <td>64.0</td>\n",
       "      <td>124.000</td>\n",
       "      <td>300.5</td>\n",
       "      <td>6.0</td>\n",
       "      <td>F</td>\n",
       "    </tr>\n",
       "    <tr>\n",
       "      <th>2</th>\n",
       "      <td>70.0</td>\n",
       "      <td>211.600</td>\n",
       "      <td>279.0</td>\n",
       "      <td>0.0</td>\n",
       "      <td>M</td>\n",
       "    </tr>\n",
       "    <tr>\n",
       "      <th>3</th>\n",
       "      <td>70.0</td>\n",
       "      <td>200.000</td>\n",
       "      <td>303.0</td>\n",
       "      <td>24.0</td>\n",
       "      <td>M</td>\n",
       "    </tr>\n",
       "    <tr>\n",
       "      <th>4</th>\n",
       "      <td>69.0</td>\n",
       "      <td>124.000</td>\n",
       "      <td>285.0</td>\n",
       "      <td>18.0</td>\n",
       "      <td>M</td>\n",
       "    </tr>\n",
       "    <tr>\n",
       "      <th>...</th>\n",
       "      <td>...</td>\n",
       "      <td>...</td>\n",
       "      <td>...</td>\n",
       "      <td>...</td>\n",
       "      <td>...</td>\n",
       "    </tr>\n",
       "    <tr>\n",
       "      <th>73</th>\n",
       "      <td>64.0</td>\n",
       "      <td>121.250</td>\n",
       "      <td>269.0</td>\n",
       "      <td>3.0</td>\n",
       "      <td>F</td>\n",
       "    </tr>\n",
       "    <tr>\n",
       "      <th>74</th>\n",
       "      <td>70.0</td>\n",
       "      <td>158.730</td>\n",
       "      <td>312.0</td>\n",
       "      <td>0.0</td>\n",
       "      <td>M</td>\n",
       "    </tr>\n",
       "    <tr>\n",
       "      <th>75</th>\n",
       "      <td>67.2</td>\n",
       "      <td>125.660</td>\n",
       "      <td>281.0</td>\n",
       "      <td>8.0</td>\n",
       "      <td>F</td>\n",
       "    </tr>\n",
       "    <tr>\n",
       "      <th>76</th>\n",
       "      <td>72.0</td>\n",
       "      <td>160.937</td>\n",
       "      <td>276.0</td>\n",
       "      <td>0.0</td>\n",
       "      <td>M</td>\n",
       "    </tr>\n",
       "    <tr>\n",
       "      <th>77</th>\n",
       "      <td>69.0</td>\n",
       "      <td>156.000</td>\n",
       "      <td>286.0</td>\n",
       "      <td>13.0</td>\n",
       "      <td>M</td>\n",
       "    </tr>\n",
       "  </tbody>\n",
       "</table>\n",
       "<p>78 rows × 5 columns</p>\n",
       "</div>"
      ],
      "text/plain": [
       "    Height   Weight  Age(Months)  Experience(Months) Gender(M/F)\n",
       "0     68.5  158.000        284.0                12.0           M\n",
       "1     64.0  124.000        300.5                 6.0           F\n",
       "2     70.0  211.600        279.0                 0.0           M\n",
       "3     70.0  200.000        303.0                24.0           M\n",
       "4     69.0  124.000        285.0                18.0           M\n",
       "..     ...      ...          ...                 ...         ...\n",
       "73    64.0  121.250        269.0                 3.0           F\n",
       "74    70.0  158.730        312.0                 0.0           M\n",
       "75    67.2  125.660        281.0                 8.0           F\n",
       "76    72.0  160.937        276.0                 0.0           M\n",
       "77    69.0  156.000        286.0                13.0           M\n",
       "\n",
       "[78 rows x 5 columns]"
      ]
     },
     "execution_count": 680,
     "metadata": {},
     "output_type": "execute_result"
    }
   ],
   "source": [
    "df_new"
   ]
  },
  {
   "cell_type": "raw",
   "id": "44c02a8b",
   "metadata": {},
   "source": [
    "Saving the final csv file to get the new updated dataset"
   ]
  },
  {
   "cell_type": "code",
   "execution_count": 334,
   "id": "dc944454",
   "metadata": {},
   "outputs": [],
   "source": [
    "df_new.to_csv(\"ClassData.csv\",index=False)"
   ]
  },
  {
   "cell_type": "markdown",
   "id": "fbb40a42",
   "metadata": {},
   "source": [
    "## Q2"
   ]
  },
  {
   "cell_type": "code",
   "execution_count": 681,
   "id": "b4fbe520",
   "metadata": {},
   "outputs": [],
   "source": [
    "from sklearn.neighbors import KNeighborsClassifier\n",
    "from sklearn.model_selection import train_test_split\n",
    "from sklearn.metrics import precision_recall_fscore_support,r2_score,classification_report,confusion_matrix,ConfusionMatrixDisplay,accuracy_score\n",
    "import math\n",
    "import matplotlib.pyplot as plt"
   ]
  },
  {
   "cell_type": "code",
   "execution_count": 682,
   "id": "fe3baf0b",
   "metadata": {},
   "outputs": [],
   "source": [
    "df=pd.read_csv(\"ClassData.csv\")"
   ]
  },
  {
   "cell_type": "code",
   "execution_count": 683,
   "id": "a3cfdef9",
   "metadata": {},
   "outputs": [
    {
     "data": {
      "text/html": [
       "<div>\n",
       "<style scoped>\n",
       "    .dataframe tbody tr th:only-of-type {\n",
       "        vertical-align: middle;\n",
       "    }\n",
       "\n",
       "    .dataframe tbody tr th {\n",
       "        vertical-align: top;\n",
       "    }\n",
       "\n",
       "    .dataframe thead th {\n",
       "        text-align: right;\n",
       "    }\n",
       "</style>\n",
       "<table border=\"1\" class=\"dataframe\">\n",
       "  <thead>\n",
       "    <tr style=\"text-align: right;\">\n",
       "      <th></th>\n",
       "      <th>Height</th>\n",
       "      <th>Weight</th>\n",
       "      <th>Age(Months)</th>\n",
       "      <th>Experience(Months)</th>\n",
       "      <th>Gender(M/F)</th>\n",
       "    </tr>\n",
       "  </thead>\n",
       "  <tbody>\n",
       "    <tr>\n",
       "      <th>0</th>\n",
       "      <td>68.5</td>\n",
       "      <td>158.000</td>\n",
       "      <td>284.0</td>\n",
       "      <td>12.0</td>\n",
       "      <td>M</td>\n",
       "    </tr>\n",
       "    <tr>\n",
       "      <th>1</th>\n",
       "      <td>64.0</td>\n",
       "      <td>124.000</td>\n",
       "      <td>300.5</td>\n",
       "      <td>6.0</td>\n",
       "      <td>F</td>\n",
       "    </tr>\n",
       "    <tr>\n",
       "      <th>2</th>\n",
       "      <td>70.0</td>\n",
       "      <td>211.600</td>\n",
       "      <td>279.0</td>\n",
       "      <td>0.0</td>\n",
       "      <td>M</td>\n",
       "    </tr>\n",
       "    <tr>\n",
       "      <th>3</th>\n",
       "      <td>70.0</td>\n",
       "      <td>200.000</td>\n",
       "      <td>303.0</td>\n",
       "      <td>24.0</td>\n",
       "      <td>M</td>\n",
       "    </tr>\n",
       "    <tr>\n",
       "      <th>4</th>\n",
       "      <td>69.0</td>\n",
       "      <td>124.000</td>\n",
       "      <td>285.0</td>\n",
       "      <td>18.0</td>\n",
       "      <td>M</td>\n",
       "    </tr>\n",
       "    <tr>\n",
       "      <th>...</th>\n",
       "      <td>...</td>\n",
       "      <td>...</td>\n",
       "      <td>...</td>\n",
       "      <td>...</td>\n",
       "      <td>...</td>\n",
       "    </tr>\n",
       "    <tr>\n",
       "      <th>73</th>\n",
       "      <td>64.0</td>\n",
       "      <td>121.250</td>\n",
       "      <td>269.0</td>\n",
       "      <td>3.0</td>\n",
       "      <td>F</td>\n",
       "    </tr>\n",
       "    <tr>\n",
       "      <th>74</th>\n",
       "      <td>70.0</td>\n",
       "      <td>158.730</td>\n",
       "      <td>312.0</td>\n",
       "      <td>0.0</td>\n",
       "      <td>M</td>\n",
       "    </tr>\n",
       "    <tr>\n",
       "      <th>75</th>\n",
       "      <td>67.2</td>\n",
       "      <td>125.660</td>\n",
       "      <td>281.0</td>\n",
       "      <td>8.0</td>\n",
       "      <td>F</td>\n",
       "    </tr>\n",
       "    <tr>\n",
       "      <th>76</th>\n",
       "      <td>72.0</td>\n",
       "      <td>160.937</td>\n",
       "      <td>276.0</td>\n",
       "      <td>0.0</td>\n",
       "      <td>M</td>\n",
       "    </tr>\n",
       "    <tr>\n",
       "      <th>77</th>\n",
       "      <td>69.0</td>\n",
       "      <td>156.000</td>\n",
       "      <td>286.0</td>\n",
       "      <td>13.0</td>\n",
       "      <td>M</td>\n",
       "    </tr>\n",
       "  </tbody>\n",
       "</table>\n",
       "<p>78 rows × 5 columns</p>\n",
       "</div>"
      ],
      "text/plain": [
       "    Height   Weight  Age(Months)  Experience(Months) Gender(M/F)\n",
       "0     68.5  158.000        284.0                12.0           M\n",
       "1     64.0  124.000        300.5                 6.0           F\n",
       "2     70.0  211.600        279.0                 0.0           M\n",
       "3     70.0  200.000        303.0                24.0           M\n",
       "4     69.0  124.000        285.0                18.0           M\n",
       "..     ...      ...          ...                 ...         ...\n",
       "73    64.0  121.250        269.0                 3.0           F\n",
       "74    70.0  158.730        312.0                 0.0           M\n",
       "75    67.2  125.660        281.0                 8.0           F\n",
       "76    72.0  160.937        276.0                 0.0           M\n",
       "77    69.0  156.000        286.0                13.0           M\n",
       "\n",
       "[78 rows x 5 columns]"
      ]
     },
     "execution_count": 683,
     "metadata": {},
     "output_type": "execute_result"
    }
   ],
   "source": [
    "df"
   ]
  },
  {
   "cell_type": "raw",
   "id": "1550f650",
   "metadata": {},
   "source": [
    "Imputing the Gender column , M by1 and F by 0"
   ]
  },
  {
   "cell_type": "code",
   "execution_count": 684,
   "id": "fc876e96",
   "metadata": {},
   "outputs": [],
   "source": [
    "# For Encoding the Label , Gender(M/F)..where Male is 1 and Femal is 0\n",
    "df['Gender(M/F)']=df['Gender(M/F)'].map({\"M\":1,\"F\":0})"
   ]
  },
  {
   "cell_type": "code",
   "execution_count": 685,
   "id": "70b1909b",
   "metadata": {},
   "outputs": [
    {
     "data": {
      "text/html": [
       "<div>\n",
       "<style scoped>\n",
       "    .dataframe tbody tr th:only-of-type {\n",
       "        vertical-align: middle;\n",
       "    }\n",
       "\n",
       "    .dataframe tbody tr th {\n",
       "        vertical-align: top;\n",
       "    }\n",
       "\n",
       "    .dataframe thead th {\n",
       "        text-align: right;\n",
       "    }\n",
       "</style>\n",
       "<table border=\"1\" class=\"dataframe\">\n",
       "  <thead>\n",
       "    <tr style=\"text-align: right;\">\n",
       "      <th></th>\n",
       "      <th>Height</th>\n",
       "      <th>Weight</th>\n",
       "      <th>Age(Months)</th>\n",
       "      <th>Experience(Months)</th>\n",
       "      <th>Gender(M/F)</th>\n",
       "    </tr>\n",
       "  </thead>\n",
       "  <tbody>\n",
       "    <tr>\n",
       "      <th>0</th>\n",
       "      <td>68.5</td>\n",
       "      <td>158.000</td>\n",
       "      <td>284.0</td>\n",
       "      <td>12.0</td>\n",
       "      <td>1</td>\n",
       "    </tr>\n",
       "    <tr>\n",
       "      <th>1</th>\n",
       "      <td>64.0</td>\n",
       "      <td>124.000</td>\n",
       "      <td>300.5</td>\n",
       "      <td>6.0</td>\n",
       "      <td>0</td>\n",
       "    </tr>\n",
       "    <tr>\n",
       "      <th>2</th>\n",
       "      <td>70.0</td>\n",
       "      <td>211.600</td>\n",
       "      <td>279.0</td>\n",
       "      <td>0.0</td>\n",
       "      <td>1</td>\n",
       "    </tr>\n",
       "    <tr>\n",
       "      <th>3</th>\n",
       "      <td>70.0</td>\n",
       "      <td>200.000</td>\n",
       "      <td>303.0</td>\n",
       "      <td>24.0</td>\n",
       "      <td>1</td>\n",
       "    </tr>\n",
       "    <tr>\n",
       "      <th>4</th>\n",
       "      <td>69.0</td>\n",
       "      <td>124.000</td>\n",
       "      <td>285.0</td>\n",
       "      <td>18.0</td>\n",
       "      <td>1</td>\n",
       "    </tr>\n",
       "    <tr>\n",
       "      <th>...</th>\n",
       "      <td>...</td>\n",
       "      <td>...</td>\n",
       "      <td>...</td>\n",
       "      <td>...</td>\n",
       "      <td>...</td>\n",
       "    </tr>\n",
       "    <tr>\n",
       "      <th>73</th>\n",
       "      <td>64.0</td>\n",
       "      <td>121.250</td>\n",
       "      <td>269.0</td>\n",
       "      <td>3.0</td>\n",
       "      <td>0</td>\n",
       "    </tr>\n",
       "    <tr>\n",
       "      <th>74</th>\n",
       "      <td>70.0</td>\n",
       "      <td>158.730</td>\n",
       "      <td>312.0</td>\n",
       "      <td>0.0</td>\n",
       "      <td>1</td>\n",
       "    </tr>\n",
       "    <tr>\n",
       "      <th>75</th>\n",
       "      <td>67.2</td>\n",
       "      <td>125.660</td>\n",
       "      <td>281.0</td>\n",
       "      <td>8.0</td>\n",
       "      <td>0</td>\n",
       "    </tr>\n",
       "    <tr>\n",
       "      <th>76</th>\n",
       "      <td>72.0</td>\n",
       "      <td>160.937</td>\n",
       "      <td>276.0</td>\n",
       "      <td>0.0</td>\n",
       "      <td>1</td>\n",
       "    </tr>\n",
       "    <tr>\n",
       "      <th>77</th>\n",
       "      <td>69.0</td>\n",
       "      <td>156.000</td>\n",
       "      <td>286.0</td>\n",
       "      <td>13.0</td>\n",
       "      <td>1</td>\n",
       "    </tr>\n",
       "  </tbody>\n",
       "</table>\n",
       "<p>78 rows × 5 columns</p>\n",
       "</div>"
      ],
      "text/plain": [
       "    Height   Weight  Age(Months)  Experience(Months)  Gender(M/F)\n",
       "0     68.5  158.000        284.0                12.0            1\n",
       "1     64.0  124.000        300.5                 6.0            0\n",
       "2     70.0  211.600        279.0                 0.0            1\n",
       "3     70.0  200.000        303.0                24.0            1\n",
       "4     69.0  124.000        285.0                18.0            1\n",
       "..     ...      ...          ...                 ...          ...\n",
       "73    64.0  121.250        269.0                 3.0            0\n",
       "74    70.0  158.730        312.0                 0.0            1\n",
       "75    67.2  125.660        281.0                 8.0            0\n",
       "76    72.0  160.937        276.0                 0.0            1\n",
       "77    69.0  156.000        286.0                13.0            1\n",
       "\n",
       "[78 rows x 5 columns]"
      ]
     },
     "execution_count": 685,
     "metadata": {},
     "output_type": "execute_result"
    }
   ],
   "source": [
    "df"
   ]
  },
  {
   "cell_type": "code",
   "execution_count": 686,
   "id": "b32ae5c4",
   "metadata": {},
   "outputs": [
    {
     "name": "stdout",
     "output_type": "stream",
     "text": [
      "<class 'pandas.core.frame.DataFrame'>\n",
      "RangeIndex: 78 entries, 0 to 77\n",
      "Data columns (total 5 columns):\n",
      " #   Column              Non-Null Count  Dtype  \n",
      "---  ------              --------------  -----  \n",
      " 0   Height              78 non-null     float64\n",
      " 1   Weight              78 non-null     float64\n",
      " 2   Age(Months)         78 non-null     float64\n",
      " 3   Experience(Months)  78 non-null     float64\n",
      " 4   Gender(M/F)         78 non-null     int64  \n",
      "dtypes: float64(4), int64(1)\n",
      "memory usage: 3.2 KB\n"
     ]
    }
   ],
   "source": [
    "df.info()"
   ]
  },
  {
   "cell_type": "raw",
   "id": "0d23b287",
   "metadata": {},
   "source": [
    "Here this main function will take the dataframe as input and the following tasks.\n",
    "1. Create the X and Y to get training and testing datas\n",
    "2. Taking 3 inputs similarity_measurement,order and value_k\n",
    "3. Defining the cartesian_distance function since sklearn does not have it in default\n",
    "4. Now based on the input provided, the model is fitted and then Accuracy is given, Predictions are printed .\n",
    "5. Since a specific point is asked if the metric is cartesian, order is 2 and k=3 we must also plot confusion matrix so that is done"
   ]
  },
  {
   "cell_type": "code",
   "execution_count": 621,
   "id": "d679c244",
   "metadata": {},
   "outputs": [],
   "source": [
    "\n",
    "def solve_q2(df):\n",
    "    X=df.drop([\"Gender(M/F)\",\"Experience(Months)\"],axis=1)\n",
    "    Y=df['Gender(M/F)']\n",
    "    similarity_measurement=input(\"Enter similarity measurement(C/M/K) \").upper()\n",
    "    order=int(input(\"Order \"))\n",
    "    value_k=int(input(\"Value of K \"))\n",
    "    def cartesian_distance(x1, x2):\n",
    "        return np.sqrt((x1[0] - x2[0])**2 + (x1[1] - x2[1])**2 + (x1[2] - x2[2])**2)\n",
    "    \n",
    "        \n",
    "\n",
    "        \n",
    "    if similarity_measurement==\"C\" and order==2 and value_k==3:\n",
    "        X_train,X_test,Y_train,Y_test=train_test_split(X,Y,train_size=0.2,random_state=None)\n",
    "\n",
    "\n",
    "        knn=KNeighborsClassifier(n_neighbors=value_k,p=order,metric=cartesian_distance)\n",
    "        knn.fit(X_train,Y_train)\n",
    "        print(\"Accuracy is: \",knn.score(X_test,Y_test))\n",
    "        print(\"The predicted data is M(1) F(0)\",knn.predict(X_test))\n",
    "        \n",
    "        cm = confusion_matrix(y_true=Y_test, y_pred=knn.predict(X_test), labels=knn.classes_)\n",
    "        disp = ConfusionMatrixDisplay(confusion_matrix=cm,display_labels=knn.classes_)\n",
    "        disp.plot()\n",
    "        plt.show()\n",
    "        return\n",
    "    \n",
    "    \n",
    "    \n",
    "    X_train,X_test,Y_train,Y_test=train_test_split(X,Y,test_size=0.2,random_state=None)\n",
    "    if similarity_measurement==\"K\":\n",
    "        knn=KNeighborsClassifier(n_neighbors=value_k,p=order,metric='minkowski')\n",
    "        knn.fit(X_train,Y_train)\n",
    "        predictions=knn.predict(X_test)\n",
    "        print(\"Accuracy is :\",knn.score(X_test,Y_test))\n",
    "        print(\"The predicted data is M(1) F(0)\",predictions)\n",
    "        return knn,Y_test,predictions\n",
    "#         cm = confusion_matrix(y_true=Y_test, y_pred=knn.predict(X_test), labels=knn.classes_)\n",
    "#         disp = ConfusionMatrixDisplay(confusion_matrix=cm,display_labels=knn.classes_)\n",
    "#         disp.plot()\n",
    "#         plt.show()\n",
    "        \n",
    "    \n",
    "    elif similarity_measurement==\"M\":\n",
    "        knn=KNeighborsClassifier(n_neighbors=value_k,p=order,metric='manhattan')\n",
    "        knn.fit(X_train,Y_train)\n",
    "        predictions=knn.predict(X_test)\n",
    "        print(\"Accuracy is :\",knn.score(X_test,Y_test))\n",
    "\n",
    "        print(\"The predicted data is M(1) F(0)\",predictions)\n",
    "        return knn,Y_test,predictions\n",
    "\n",
    "#         cm = confusion_matrix(y_true=Y_test, y_pred=knn.predict(X_test), labels=knn.classes_)\n",
    "#         disp = ConfusionMatrixDisplay(confusion_matrix=cm,display_labels=knn.classes_)\n",
    "#         disp.plot()\n",
    "#         plt.show()\n",
    "\n",
    "\n",
    "    elif similarity_measurement==\"C\":\n",
    "\n",
    "        knn=KNeighborsClassifier(n_neighbors=value_k,p=order,metric=cartesian_distance)\n",
    "        knn.fit(X_train,Y_train)\n",
    "        predictions=knn.predict(X_test)\n",
    "        print(\"Accuracy is :\",knn.score(X_test,Y_test))\n",
    "\n",
    "        print(\"The predicted data is M(1) F(0)\",predictions)\n",
    "        return knn,Y_test,predictions\n",
    "\n",
    "#         cm = confusion_matrix(y_true=Y_test, y_pred=knn.predict(X_test), labels=knn.classes_)\n",
    "#         disp = ConfusionMatrixDisplay(confusion_matrix=cm,display_labels=knn.classes_)\n",
    "#         disp.plot()\n",
    "#         plt.show()\n",
    "      \n",
    "        \n",
    "  \n",
    "\n",
    "        \n",
    "        "
   ]
  },
  {
   "cell_type": "code",
   "execution_count": 622,
   "id": "d1dc1890",
   "metadata": {
    "scrolled": true
   },
   "outputs": [
    {
     "name": "stdout",
     "output_type": "stream",
     "text": [
      "Enter similarity measurement(C/M/K) m\n",
      "Order 2\n",
      "Value of K 5\n",
      "Accuracy is : 0.875\n",
      "The predicted data is M(1) F(0) [1 1 1 1 1 1 1 1 1 0 1 1 1 1 0 1]\n"
     ]
    },
    {
     "data": {
      "text/plain": [
       "(KNeighborsClassifier(metric='manhattan'),\n",
       " 25    1\n",
       " 50    1\n",
       " 20    1\n",
       " 5     0\n",
       " 49    1\n",
       " 72    1\n",
       " 54    1\n",
       " 21    1\n",
       " 14    1\n",
       " 67    0\n",
       " 59    1\n",
       " 52    1\n",
       " 66    1\n",
       " 73    0\n",
       " 24    0\n",
       " 10    1\n",
       " Name: Gender(M/F), dtype: int64,\n",
       " array([1, 1, 1, 1, 1, 1, 1, 1, 1, 0, 1, 1, 1, 1, 0, 1], dtype=int64))"
      ]
     },
     "execution_count": 622,
     "metadata": {},
     "output_type": "execute_result"
    }
   ],
   "source": [
    "solve_q2(df)"
   ]
  },
  {
   "cell_type": "markdown",
   "id": "42cb19ab",
   "metadata": {},
   "source": [
    "## Q3"
   ]
  },
  {
   "cell_type": "markdown",
   "id": "68e62621",
   "metadata": {},
   "source": [
    "## Finall"
   ]
  },
  {
   "cell_type": "raw",
   "id": "e1a3222e",
   "metadata": {},
   "source": [
    "This the main CustomKNN class created which has some following functions created from scratch.\n",
    "1. Training method which is fit\n",
    "2. Cartesian Distance method\n",
    "3. Manhattan Distance method\n",
    "4. Minkowski Distance method\n",
    "5. Prediction method"
   ]
  },
  {
   "cell_type": "code",
   "execution_count": 623,
   "id": "5c974216",
   "metadata": {},
   "outputs": [],
   "source": [
    "\n",
    "class CustomKNN:\n",
    "    def __init__(self, k=3, metric='C', p=2):\n",
    "        self.k = k\n",
    "        self.metric = metric.upper()\n",
    "        self.p = p\n",
    "        self.X_train = None\n",
    "        self.y_train = None\n",
    "\n",
    "    def fit(self, X_train, y_train):\n",
    "        self.X_train = X_train\n",
    "        self.y_train = y_train\n",
    "\n",
    "    def _cartesian_distance(self, x1, x2, p):\n",
    "        return np.sqrt(np.sum(np.abs(x1 - x2) ** p))\n",
    "\n",
    "    def _manhattan_distance(self, x1, x2, p):\n",
    "        return np.sum(np.abs(x1 - x2) ** p)\n",
    "\n",
    "    def _minkowski_distance(self, x1, x2, p):\n",
    "        return np.power(np.sum(np.abs(x1 - x2) ** p), 1/p)\n",
    "\n",
    "    def _get_distance(self, x1, x2):\n",
    "        if self.metric == 'C':\n",
    "            return self._cartesian_distance(x1, x2, self.p)\n",
    "        elif self.metric == 'M':\n",
    "            return self._manhattan_distance(x1, x2, self.p)\n",
    "        elif self.metric == 'K':\n",
    "            return self._minkowski_distance(x1, x2, self.p)\n",
    "        else:\n",
    "            raise ValueError(\"Invalid distance metric. Choose 'cartesian', 'manhattan', or 'minkowski'.\")\n",
    "\n",
    "    def predict(self, X_test):\n",
    "        y_pred = []\n",
    "        for x_test in X_test:\n",
    "            distances = []\n",
    "            for x_train, label in zip(self.X_train, self.y_train):\n",
    "                dist = self._get_distance(x_test, x_train)\n",
    "                distances.append((dist, label))\n",
    "\n",
    "            # Sort distances and get the k-nearest neighbors\n",
    "            sorted_distances = sorted(distances, key=lambda x: x[0])\n",
    "            k_nearest = sorted_distances[:self.k]\n",
    "\n",
    "            # Count the votes for each class\n",
    "            class_votes = {}\n",
    "            for _, label in k_nearest:\n",
    "                if label in class_votes:\n",
    "                    class_votes[label] += 1\n",
    "                else:\n",
    "                    class_votes[label] = 1\n",
    "\n",
    "            # Predict the label with the most votes\n",
    "            predicted_label = max(class_votes, key=class_votes.get)\n",
    "            y_pred.append(predicted_label)\n",
    "        \n",
    "        return np.array(y_pred)\n"
   ]
  },
  {
   "cell_type": "raw",
   "id": "3ba040a3",
   "metadata": {},
   "source": [
    "Split the dataframe function created form scratch which takes dataframe , test_size and  random_seed as input"
   ]
  },
  {
   "cell_type": "code",
   "execution_count": 624,
   "id": "c40a324f",
   "metadata": {},
   "outputs": [],
   "source": [
    "\n",
    "\n",
    "def split_dataframe(dataframe, test_size=0.2, random_seed=None):\n",
    "    \"\"\"\n",
    "    Split a DataFrame into training and test sets.\n",
    "\n",
    "    Parameters:\n",
    "    - dataframe: The DataFrame to be split.\n",
    "    - test_size: The fraction of the data to be used for the test set (default is 0.2).\n",
    "    - random_seed: Seed for random number generation (optional).\n",
    "\n",
    "    Returns:\n",
    "    - train_set: The training set (DataFrame).\n",
    "    - test_set: The test set (DataFrame).\n",
    "    \"\"\"\n",
    "    if random_seed is not None:\n",
    "        np.random.seed(random_seed)\n",
    "    \n",
    "    # Randomly shuffle the indices of the DataFrame\n",
    "    indices = np.random.permutation(dataframe.shape[0])\n",
    "    \n",
    "    # Calculate the number of rows for the test set\n",
    "    test_size = int(test_size * len(dataframe))\n",
    "    \n",
    "    # Split the shuffled indices into training and test indices\n",
    "    test_indices = indices[:test_size]\n",
    "    train_indices = indices[test_size:]\n",
    "    \n",
    "    # Create the training and test sets using the selected indices\n",
    "    train_set = dataframe.iloc[train_indices]\n",
    "    test_set = dataframe.iloc[test_indices]\n",
    "    \n",
    "    return train_set, test_set\n",
    "\n",
    "\n",
    "\n",
    "# Split the DataFrame into training and test sets\n",
    "\n",
    "\n"
   ]
  },
  {
   "cell_type": "raw",
   "id": "19fbd4d3",
   "metadata": {},
   "source": [
    "Accuracy function from scratch"
   ]
  },
  {
   "cell_type": "code",
   "execution_count": 625,
   "id": "0f0e3d17",
   "metadata": {},
   "outputs": [],
   "source": [
    "def accuracy(predicted, actual):\n",
    "    correct = np.sum(predicted == actual)\n",
    "    return correct / len(actual)"
   ]
  },
  {
   "cell_type": "code",
   "execution_count": null,
   "id": "65bdb035",
   "metadata": {},
   "outputs": [],
   "source": []
  },
  {
   "cell_type": "code",
   "execution_count": null,
   "id": "c7d41287",
   "metadata": {},
   "outputs": [],
   "source": [
    "Confusion Matrix function from scratch"
   ]
  },
  {
   "cell_type": "code",
   "execution_count": 626,
   "id": "b40337c3",
   "metadata": {},
   "outputs": [],
   "source": [
    "def confusion_matrix(y_true, y_pred):\n",
    "    unique_labels = np.unique(y_true)\n",
    "    matrix = np.zeros((len(unique_labels), len(unique_labels)), dtype=int)\n",
    "    \n",
    "    for i in range(len(y_true)):\n",
    "        true_label = y_true[i]\n",
    "        pred_label = y_pred[i]\n",
    "        matrix[true_label][pred_label] += 1\n",
    "    \n",
    "    return matrix"
   ]
  },
  {
   "cell_type": "code",
   "execution_count": null,
   "id": "3a65c5e8",
   "metadata": {},
   "outputs": [],
   "source": [
    "Here this main function will take the dataframe as input and the following tasks.\n",
    "1. Create the train_set and test_set to get training and testing datas and creating further datasets\n",
    "2. Taking 3 inputs similarity_measurement,order and value_k\n",
    "3. Using the CustomKNN class which takes all these 3 inputs in its constructor\n",
    "4. Further training and prediction is done using this CustomKNN class\n",
    "5. Use custom accuracy class to get the accuracy\n",
    "6. Then the values for prediction is asked.\n",
    "7. Now based on the input provided, Predictions are printed .\n"
   ]
  },
  {
   "cell_type": "code",
   "execution_count": 627,
   "id": "438827de",
   "metadata": {},
   "outputs": [],
   "source": [
    "# Create and fit the KNN model\n",
    "def solve_q3(df):\n",
    "    train_set, test_set = split_dataframe(df.drop(\"Experience(Months)\",axis=1), test_size=0.2, random_seed=None)\n",
    "\n",
    "    X_train,Y_train=train_set.iloc[:,:-1],train_set.iloc[:,-1]\n",
    "    X_test,Y_test=test_set.iloc[:,:-1],test_set.iloc[:,-1]\n",
    "    \n",
    "    \n",
    "    \n",
    "    \n",
    "    similarity_measurement=input(\"Enter similarity measurement(C/M/K) \").upper()\n",
    "    order=int(input(\"Order \"))\n",
    "    value_k=int(input(\"Value of K \"))\n",
    "    \n",
    "    \n",
    "    \n",
    "    knn_model = CustomKNN(k=value_k, metric=similarity_measurement, p=order)\n",
    "    knn_model.fit(np.array(X_train), np.array(Y_train))\n",
    "    Y_pred = np.array(knn_model.predict(np.array(X_test)))\n",
    "    Y_test=np.array(Y_test)\n",
    "    \n",
    "    \n",
    "    \n",
    "    print(\"The results on the trained data by the provided parameters is given below :\")\n",
    "    print()\n",
    "    print(\"Accuracy is :\", accuracy(y_pred,Y_test))\n",
    "\n",
    "    print(\"The predicted data is M(1) F(0)\",list(Y_pred))\n",
    "    print()\n",
    "    print(\"Confusion Matrix is :\")\n",
    "    print(confusion_matrix(Y_test, Y_pred))\n",
    "    \n",
    "    flag=input(\"Whether you want to predict some data ?(Y/N)\")\n",
    "    if flag==\"Yes\" or flag==\"Y\":\n",
    "        n=int(input(\"Tell me how many rows ?\"))\n",
    "        new_data=[]\n",
    "        for i in range(n):\n",
    "            new_data.append(list(map(float,input(\"Input the values \").split())))\n",
    "        new_data=np.array(new_data)\n",
    "        print((new_data))\n",
    "        predicted_data=knn_model.predict(new_data)\n",
    "        print(\"The predicted data is M(1) F(0)\",np.array(predicted_data))\n",
    "    return knn_model,Y_test,Y_pred\n",
    "\n",
    "\n",
    "        \n",
    "    \n",
    "    \n",
    "    \n",
    "    \n",
    "    "
   ]
  },
  {
   "cell_type": "raw",
   "id": "8f1807f0",
   "metadata": {},
   "source": [
    "Input the data to CustomKNN class by first label encoding the Gender column"
   ]
  },
  {
   "cell_type": "code",
   "execution_count": 628,
   "id": "4e57ed22",
   "metadata": {
    "scrolled": false
   },
   "outputs": [
    {
     "name": "stdout",
     "output_type": "stream",
     "text": [
      "Enter similarity measurement(C/M/K) m\n",
      "Order 2\n",
      "Value of K 3\n",
      "The results on the trained data by the provided parameters is given below :\n",
      "\n",
      "Accuracy is : 0.6\n",
      "The predicted data is M(1) F(0) [1, 1, 1, 1, 1, 1, 1, 1, 1, 1, 1, 1, 1, 1, 0]\n",
      "\n",
      "Confusion Matrix is :\n",
      "[[ 1  2]\n",
      " [ 0 12]]\n",
      "Whether you want to predict some data ?(Y/N)Y\n",
      "Tell me how many rows ?1\n",
      "Input the values 1 2 3\n",
      "[[1. 2. 3.]]\n",
      "The predicted data is M(1) F(0) [0]\n"
     ]
    },
    {
     "data": {
      "text/plain": [
       "(<__main__.CustomKNN at 0x20977367310>,\n",
       " array([0, 1, 1, 1, 1, 1, 1, 1, 1, 1, 1, 0, 1, 1, 0], dtype=int64),\n",
       " array([1, 1, 1, 1, 1, 1, 1, 1, 1, 1, 1, 1, 1, 1, 0], dtype=int64))"
      ]
     },
     "execution_count": 628,
     "metadata": {},
     "output_type": "execute_result"
    }
   ],
   "source": [
    "df=pd.read_csv(\"ClassData.csv\")\n",
    "df['Gender(M/F)']=df['Gender(M/F)'].map({\"M\":1,\"F\":0})\n",
    "solve_q3(df)"
   ]
  },
  {
   "cell_type": "markdown",
   "id": "bfc78db5",
   "metadata": {},
   "source": [
    "## Q4"
   ]
  },
  {
   "cell_type": "raw",
   "id": "509b834d",
   "metadata": {},
   "source": [
    "Using all the values of order and k from 1 to 5 and all the values of metric , cartesian,minkowski and manhattan, models are made and accuracies,predictions and confusion matrix is given out"
   ]
  },
  {
   "cell_type": "code",
   "execution_count": 637,
   "id": "c712957d",
   "metadata": {},
   "outputs": [
    {
     "name": "stdout",
     "output_type": "stream",
     "text": [
      "For different values of K, the comparison between KNN from sklearn and KNN from scratch is as follows :\n",
      "\n",
      "For k = 1 ,order =2, and metric =M\n",
      "\n",
      "For sklearn KNN :\n",
      "Accuracy is : 0.75\n",
      "Predictions : [1 1 0 1 1 1 0 0 1 1 0 1 0 1 0 1]\n"
     ]
    },
    {
     "data": {
      "image/png": "[encoded data removed]",
      "text/plain": [
       "<Figure size 432x288 with 2 Axes>"
      ]
     },
     "metadata": {
      "needs_background": "light"
     },
     "output_type": "display_data"
    },
    {
     "name": "stdout",
     "output_type": "stream",
     "text": [
      "For custom KNN :\n",
      "Accuracy is : 0.75\n",
      "Predictions : [1 1 0 1 1 1 0 0 1 1 0 1 0 1 0 1]\n"
     ]
    },
    {
     "data": {
      "image/png": "[encoded data removed]",
      "text/plain": [
       "<Figure size 432x288 with 2 Axes>"
      ]
     },
     "metadata": {
      "needs_background": "light"
     },
     "output_type": "display_data"
    },
    {
     "name": "stdout",
     "output_type": "stream",
     "text": [
      "For k = 1 ,order =2, and metric =K\n",
      "\n",
      "For sklearn KNN :\n",
      "Accuracy is : 0.75\n",
      "Predictions : [1 1 0 1 1 1 0 0 1 1 0 1 0 1 0 1]\n"
     ]
    },
    {
     "data": {
      "image/png": "[encoded data removed]",
      "text/plain": [
       "<Figure size 432x288 with 2 Axes>"
      ]
     },
     "metadata": {
      "needs_background": "light"
     },
     "output_type": "display_data"
    },
    {
     "name": "stdout",
     "output_type": "stream",
     "text": [
      "For custom KNN :\n",
      "Accuracy is : 0.75\n",
      "Predictions : [1 1 0 1 1 1 0 0 1 1 0 1 0 1 0 1]\n"
     ]
    },
    {
     "data": {
      "image/png": "[encoded data removed]",
      "text/plain": [
       "<Figure size 432x288 with 2 Axes>"
      ]
     },
     "metadata": {
      "needs_background": "light"
     },
     "output_type": "display_data"
    },
    {
     "name": "stdout",
     "output_type": "stream",
     "text": [
      "For k = 2 ,order =2, and metric =M\n",
      "\n",
      "For sklearn KNN :\n",
      "Accuracy is : 0.625\n",
      "Predictions : [1 1 0 0 1 0 0 0 1 1 0 1 0 1 0 1]\n"
     ]
    },
    {
     "data": {
      "image/png": "[encoded data removed]",
      "text/plain": [
       "<Figure size 432x288 with 2 Axes>"
      ]
     },
     "metadata": {
      "needs_background": "light"
     },
     "output_type": "display_data"
    },
    {
     "name": "stdout",
     "output_type": "stream",
     "text": [
      "For custom KNN :\n",
      "Accuracy is : 0.75\n",
      "Predictions : [1 1 0 1 1 1 0 0 1 1 0 1 0 1 0 1]\n"
     ]
    },
    {
     "data": {
      "image/png": "[encoded data removed]",
      "text/plain": [
       "<Figure size 432x288 with 2 Axes>"
      ]
     },
     "metadata": {
      "needs_background": "light"
     },
     "output_type": "display_data"
    },
    {
     "name": "stdout",
     "output_type": "stream",
     "text": [
      "For k = 2 ,order =2, and metric =K\n",
      "\n",
      "For sklearn KNN :\n",
      "Accuracy is : 0.625\n",
      "Predictions : [1 1 0 0 1 0 0 0 1 1 0 1 0 1 0 1]\n"
     ]
    },
    {
     "data": {
      "image/png": "[encoded data removed]",
      "text/plain": [
       "<Figure size 432x288 with 2 Axes>"
      ]
     },
     "metadata": {
      "needs_background": "light"
     },
     "output_type": "display_data"
    },
    {
     "name": "stdout",
     "output_type": "stream",
     "text": [
      "For custom KNN :\n",
      "Accuracy is : 0.75\n",
      "Predictions : [1 1 0 1 1 1 0 0 1 1 0 1 0 1 0 1]\n"
     ]
    },
    {
     "data": {
      "image/png": "[encoded data removed]",
      "text/plain": [
       "<Figure size 432x288 with 2 Axes>"
      ]
     },
     "metadata": {
      "needs_background": "light"
     },
     "output_type": "display_data"
    },
    {
     "name": "stdout",
     "output_type": "stream",
     "text": [
      "For k = 3 ,order =2, and metric =M\n",
      "\n",
      "For sklearn KNN :\n",
      "Accuracy is : 0.875\n",
      "Predictions : [1 1 1 1 1 1 1 1 1 1 0 1 1 1 0 1]\n"
     ]
    },
    {
     "data": {
      "image/png": "[encoded data removed]",
      "text/plain": [
       "<Figure size 432x288 with 2 Axes>"
      ]
     },
     "metadata": {
      "needs_background": "light"
     },
     "output_type": "display_data"
    },
    {
     "name": "stdout",
     "output_type": "stream",
     "text": [
      "For custom KNN :\n",
      "Accuracy is : 0.875\n",
      "Predictions : [1 1 1 1 1 1 1 1 1 1 0 1 1 1 0 1]\n"
     ]
    },
    {
     "data": {
      "image/png": "[encoded data removed]",
      "text/plain": [
       "<Figure size 432x288 with 2 Axes>"
      ]
     },
     "metadata": {
      "needs_background": "light"
     },
     "output_type": "display_data"
    },
    {
     "name": "stdout",
     "output_type": "stream",
     "text": [
      "For k = 3 ,order =2, and metric =K\n",
      "\n",
      "For sklearn KNN :\n",
      "Accuracy is : 0.875\n",
      "Predictions : [1 1 1 1 1 1 1 1 1 1 0 1 1 1 0 1]\n"
     ]
    },
    {
     "data": {
      "image/png": "[encoded data removed]",
      "text/plain": [
       "<Figure size 432x288 with 2 Axes>"
      ]
     },
     "metadata": {
      "needs_background": "light"
     },
     "output_type": "display_data"
    },
    {
     "name": "stdout",
     "output_type": "stream",
     "text": [
      "For custom KNN :\n",
      "Accuracy is : 0.875\n",
      "Predictions : [1 1 1 1 1 1 1 1 1 1 0 1 1 1 0 1]\n"
     ]
    },
    {
     "data": {
      "image/png": "[encoded data removed]",
      "text/plain": [
       "<Figure size 432x288 with 2 Axes>"
      ]
     },
     "metadata": {
      "needs_background": "light"
     },
     "output_type": "display_data"
    },
    {
     "name": "stdout",
     "output_type": "stream",
     "text": [
      "For k = 4 ,order =2, and metric =M\n",
      "\n",
      "For sklearn KNN :\n",
      "Accuracy is : 0.8125\n",
      "Predictions : [1 1 1 1 1 1 1 0 1 1 0 1 1 1 0 1]\n"
     ]
    },
    {
     "data": {
      "image/png": "[encoded data removed]",
      "text/plain": [
       "<Figure size 432x288 with 2 Axes>"
      ]
     },
     "metadata": {
      "needs_background": "light"
     },
     "output_type": "display_data"
    },
    {
     "name": "stdout",
     "output_type": "stream",
     "text": [
      "For custom KNN :\n",
      "Accuracy is : 0.875\n",
      "Predictions : [1 1 1 1 1 1 1 1 1 1 0 1 1 1 0 1]\n"
     ]
    },
    {
     "data": {
      "image/png": "[encoded data removed]",
      "text/plain": [
       "<Figure size 432x288 with 2 Axes>"
      ]
     },
     "metadata": {
      "needs_background": "light"
     },
     "output_type": "display_data"
    },
    {
     "name": "stdout",
     "output_type": "stream",
     "text": [
      "For k = 4 ,order =2, and metric =K\n",
      "\n",
      "For sklearn KNN :\n",
      "Accuracy is : 0.8125\n",
      "Predictions : [1 1 1 1 1 1 1 0 1 1 0 1 1 1 0 1]\n"
     ]
    },
    {
     "data": {
      "image/png": "[encoded data removed]",
      "text/plain": [
       "<Figure size 432x288 with 2 Axes>"
      ]
     },
     "metadata": {
      "needs_background": "light"
     },
     "output_type": "display_data"
    },
    {
     "name": "stdout",
     "output_type": "stream",
     "text": [
      "For custom KNN :\n",
      "Accuracy is : 0.875\n",
      "Predictions : [1 1 1 1 1 1 1 1 1 1 0 1 1 1 0 1]\n"
     ]
    },
    {
     "data": {
      "image/png": "[encoded data removed]",
      "text/plain": [
       "<Figure size 432x288 with 2 Axes>"
      ]
     },
     "metadata": {
      "needs_background": "light"
     },
     "output_type": "display_data"
    },
    {
     "name": "stdout",
     "output_type": "stream",
     "text": [
      "For k = 5 ,order =2, and metric =M\n",
      "\n",
      "For sklearn KNN :\n",
      "Accuracy is : 0.8125\n",
      "Predictions : [1 1 1 1 1 1 1 1 1 1 0 1 1 1 1 1]\n"
     ]
    },
    {
     "data": {
      "image/png": "[encoded data removed]",
      "text/plain": [
       "<Figure size 432x288 with 2 Axes>"
      ]
     },
     "metadata": {
      "needs_background": "light"
     },
     "output_type": "display_data"
    },
    {
     "name": "stdout",
     "output_type": "stream",
     "text": [
      "For custom KNN :\n",
      "Accuracy is : 0.8125\n",
      "Predictions : [1 1 1 1 1 1 1 1 1 1 0 1 1 1 1 1]\n"
     ]
    },
    {
     "data": {
      "image/png": "[encoded data removed]",
      "text/plain": [
       "<Figure size 432x288 with 2 Axes>"
      ]
     },
     "metadata": {
      "needs_background": "light"
     },
     "output_type": "display_data"
    },
    {
     "name": "stdout",
     "output_type": "stream",
     "text": [
      "For k = 5 ,order =2, and metric =K\n",
      "\n",
      "For sklearn KNN :\n",
      "Accuracy is : 0.8125\n",
      "Predictions : [1 1 1 1 1 1 1 1 1 1 0 1 1 1 1 1]\n"
     ]
    },
    {
     "data": {
      "image/png": "[encoded data removed]",
      "text/plain": [
       "<Figure size 432x288 with 2 Axes>"
      ]
     },
     "metadata": {
      "needs_background": "light"
     },
     "output_type": "display_data"
    },
    {
     "name": "stdout",
     "output_type": "stream",
     "text": [
      "For custom KNN :\n",
      "Accuracy is : 0.8125\n",
      "Predictions : [1 1 1 1 1 1 1 1 1 1 0 1 1 1 1 1]\n"
     ]
    },
    {
     "data": {
      "image/png": "[encoded data removed]",
      "text/plain": [
       "<Figure size 432x288 with 2 Axes>"
      ]
     },
     "metadata": {
      "needs_background": "light"
     },
     "output_type": "display_data"
    },
    {
     "name": "stdout",
     "output_type": "stream",
     "text": [
      "For k = 1 ,order =2, and metric =M\n",
      "\n",
      "For sklearn KNN :\n",
      "Accuracy is : 0.75\n",
      "Predictions : [1 1 0 1 1 1 0 0 1 1 0 1 0 1 0 1]\n"
     ]
    },
    {
     "data": {
      "image/png": "[encoded data removed]",
      "text/plain": [
       "<Figure size 432x288 with 2 Axes>"
      ]
     },
     "metadata": {
      "needs_background": "light"
     },
     "output_type": "display_data"
    },
    {
     "name": "stdout",
     "output_type": "stream",
     "text": [
      "For custom KNN :\n",
      "Accuracy is : 0.75\n",
      "Predictions : [1 1 0 1 1 1 0 0 1 1 0 1 0 1 0 1]\n"
     ]
    },
    {
     "data": {
      "image/png": "[encoded data removed]",
      "text/plain": [
       "<Figure size 432x288 with 2 Axes>"
      ]
     },
     "metadata": {
      "needs_background": "light"
     },
     "output_type": "display_data"
    },
    {
     "name": "stdout",
     "output_type": "stream",
     "text": [
      "For k = 1 ,order =2, and metric =K\n",
      "\n",
      "For sklearn KNN :\n",
      "Accuracy is : 0.75\n",
      "Predictions : [1 1 0 1 1 1 0 0 1 1 0 1 0 1 0 1]\n"
     ]
    },
    {
     "data": {
      "image/png": "[encoded data removed]",
      "text/plain": [
       "<Figure size 432x288 with 2 Axes>"
      ]
     },
     "metadata": {
      "needs_background": "light"
     },
     "output_type": "display_data"
    },
    {
     "name": "stdout",
     "output_type": "stream",
     "text": [
      "For custom KNN :\n",
      "Accuracy is : 0.75\n",
      "Predictions : [1 1 0 1 1 1 0 0 1 1 0 1 0 1 0 1]\n"
     ]
    },
    {
     "data": {
      "image/png": "[encoded data removed]",
      "text/plain": [
       "<Figure size 432x288 with 2 Axes>"
      ]
     },
     "metadata": {
      "needs_background": "light"
     },
     "output_type": "display_data"
    },
    {
     "name": "stdout",
     "output_type": "stream",
     "text": [
      "For k = 2 ,order =2, and metric =M\n",
      "\n",
      "For sklearn KNN :\n",
      "Accuracy is : 0.625\n",
      "Predictions : [1 1 0 0 1 0 0 0 1 1 0 1 0 1 0 1]\n"
     ]
    },
    {
     "data": {
      "image/png": "[encoded data removed]",
      "text/plain": [
       "<Figure size 432x288 with 2 Axes>"
      ]
     },
     "metadata": {
      "needs_background": "light"
     },
     "output_type": "display_data"
    },
    {
     "name": "stdout",
     "output_type": "stream",
     "text": [
      "For custom KNN :\n",
      "Accuracy is : 0.75\n",
      "Predictions : [1 1 0 1 1 1 0 0 1 1 0 1 0 1 0 1]\n"
     ]
    },
    {
     "data": {
      "image/png": "[encoded data removed]",
      "text/plain": [
       "<Figure size 432x288 with 2 Axes>"
      ]
     },
     "metadata": {
      "needs_background": "light"
     },
     "output_type": "display_data"
    },
    {
     "name": "stdout",
     "output_type": "stream",
     "text": [
      "For k = 2 ,order =2, and metric =K\n",
      "\n",
      "For sklearn KNN :\n",
      "Accuracy is : 0.625\n",
      "Predictions : [1 1 0 0 1 0 0 0 1 1 0 1 0 1 0 1]\n"
     ]
    },
    {
     "data": {
      "image/png": "[encoded data removed]",
      "text/plain": [
       "<Figure size 432x288 with 2 Axes>"
      ]
     },
     "metadata": {
      "needs_background": "light"
     },
     "output_type": "display_data"
    },
    {
     "name": "stdout",
     "output_type": "stream",
     "text": [
      "For custom KNN :\n",
      "Accuracy is : 0.75\n",
      "Predictions : [1 1 0 1 1 1 0 0 1 1 0 1 0 1 0 1]\n"
     ]
    },
    {
     "data": {
      "image/png": "[encoded data removed]",
      "text/plain": [
       "<Figure size 432x288 with 2 Axes>"
      ]
     },
     "metadata": {
      "needs_background": "light"
     },
     "output_type": "display_data"
    },
    {
     "name": "stdout",
     "output_type": "stream",
     "text": [
      "For k = 3 ,order =2, and metric =M\n",
      "\n",
      "For sklearn KNN :\n",
      "Accuracy is : 0.875\n",
      "Predictions : [1 1 1 1 1 1 1 1 1 1 0 1 1 1 0 1]\n"
     ]
    },
    {
     "data": {
      "image/png": "[encoded data removed]",
      "text/plain": [
       "<Figure size 432x288 with 2 Axes>"
      ]
     },
     "metadata": {
      "needs_background": "light"
     },
     "output_type": "display_data"
    },
    {
     "name": "stdout",
     "output_type": "stream",
     "text": [
      "For custom KNN :\n",
      "Accuracy is : 0.875\n",
      "Predictions : [1 1 1 1 1 1 1 1 1 1 0 1 1 1 0 1]\n"
     ]
    },
    {
     "data": {
      "image/png": "[encoded data removed]",
      "text/plain": [
       "<Figure size 432x288 with 2 Axes>"
      ]
     },
     "metadata": {
      "needs_background": "light"
     },
     "output_type": "display_data"
    },
    {
     "name": "stdout",
     "output_type": "stream",
     "text": [
      "For k = 3 ,order =2, and metric =K\n",
      "\n",
      "For sklearn KNN :\n",
      "Accuracy is : 0.875\n",
      "Predictions : [1 1 1 1 1 1 1 1 1 1 0 1 1 1 0 1]\n"
     ]
    },
    {
     "data": {
      "image/png": "[encoded data removed]",
      "text/plain": [
       "<Figure size 432x288 with 2 Axes>"
      ]
     },
     "metadata": {
      "needs_background": "light"
     },
     "output_type": "display_data"
    },
    {
     "name": "stdout",
     "output_type": "stream",
     "text": [
      "For custom KNN :\n",
      "Accuracy is : 0.875\n",
      "Predictions : [1 1 1 1 1 1 1 1 1 1 0 1 1 1 0 1]\n"
     ]
    },
    {
     "data": {
      "image/png": "[encoded data removed]",
      "text/plain": [
       "<Figure size 432x288 with 2 Axes>"
      ]
     },
     "metadata": {
      "needs_background": "light"
     },
     "output_type": "display_data"
    },
    {
     "name": "stdout",
     "output_type": "stream",
     "text": [
      "For k = 4 ,order =2, and metric =M\n",
      "\n",
      "For sklearn KNN :\n",
      "Accuracy is : 0.8125\n",
      "Predictions : [1 1 1 1 1 1 1 0 1 1 0 1 1 1 0 1]\n"
     ]
    },
    {
     "data": {
      "image/png": "[encoded data removed]",
      "text/plain": [
       "<Figure size 432x288 with 2 Axes>"
      ]
     },
     "metadata": {
      "needs_background": "light"
     },
     "output_type": "display_data"
    },
    {
     "name": "stdout",
     "output_type": "stream",
     "text": [
      "For custom KNN :\n",
      "Accuracy is : 0.8125\n",
      "Predictions : [1 1 1 1 1 1 1 0 1 1 0 1 1 1 0 1]\n"
     ]
    },
    {
     "data": {
      "image/png": "[encoded data removed]",
      "text/plain": [
       "<Figure size 432x288 with 2 Axes>"
      ]
     },
     "metadata": {
      "needs_background": "light"
     },
     "output_type": "display_data"
    },
    {
     "name": "stdout",
     "output_type": "stream",
     "text": [
      "For k = 4 ,order =2, and metric =K\n",
      "\n",
      "For sklearn KNN :\n",
      "Accuracy is : 0.8125\n",
      "Predictions : [1 1 1 1 1 1 1 0 1 1 0 1 1 1 0 1]\n"
     ]
    },
    {
     "data": {
      "image/png": "[encoded data removed]",
      "text/plain": [
       "<Figure size 432x288 with 2 Axes>"
      ]
     },
     "metadata": {
      "needs_background": "light"
     },
     "output_type": "display_data"
    },
    {
     "name": "stdout",
     "output_type": "stream",
     "text": [
      "For custom KNN :\n",
      "Accuracy is : 0.8125\n",
      "Predictions : [1 1 1 1 1 1 1 0 1 1 0 1 1 1 0 1]\n"
     ]
    },
    {
     "data": {
      "image/png": "[encoded data removed]",
      "text/plain": [
       "<Figure size 432x288 with 2 Axes>"
      ]
     },
     "metadata": {
      "needs_background": "light"
     },
     "output_type": "display_data"
    },
    {
     "name": "stdout",
     "output_type": "stream",
     "text": [
      "For k = 5 ,order =2, and metric =M\n",
      "\n",
      "For sklearn KNN :\n",
      "Accuracy is : 0.8125\n",
      "Predictions : [1 1 1 1 1 1 1 1 1 1 0 1 1 1 1 1]\n"
     ]
    },
    {
     "data": {
      "image/png": "[encoded data removed]",
      "text/plain": [
       "<Figure size 432x288 with 2 Axes>"
      ]
     },
     "metadata": {
      "needs_background": "light"
     },
     "output_type": "display_data"
    },
    {
     "name": "stdout",
     "output_type": "stream",
     "text": [
      "For custom KNN :\n",
      "Accuracy is : 0.75\n",
      "Predictions : [1 1 1 1 1 1 1 0 1 1 0 1 1 1 1 1]\n"
     ]
    },
    {
     "data": {
      "image/png": "[encoded data removed]",
      "text/plain": [
       "<Figure size 432x288 with 2 Axes>"
      ]
     },
     "metadata": {
      "needs_background": "light"
     },
     "output_type": "display_data"
    },
    {
     "name": "stdout",
     "output_type": "stream",
     "text": [
      "For k = 5 ,order =2, and metric =K\n",
      "\n",
      "For sklearn KNN :\n",
      "Accuracy is : 0.75\n",
      "Predictions : [1 1 1 1 1 1 1 0 1 1 0 1 1 1 1 1]\n"
     ]
    },
    {
     "data": {
      "image/png": "[encoded data removed]",
      "text/plain": [
       "<Figure size 432x288 with 2 Axes>"
      ]
     },
     "metadata": {
      "needs_background": "light"
     },
     "output_type": "display_data"
    },
    {
     "name": "stdout",
     "output_type": "stream",
     "text": [
      "For custom KNN :\n",
      "Accuracy is : 0.75\n",
      "Predictions : [1 1 1 1 1 1 1 0 1 1 0 1 1 1 1 1]\n"
     ]
    },
    {
     "data": {
      "image/png": "[encoded data removed]",
      "text/plain": [
       "<Figure size 432x288 with 2 Axes>"
      ]
     },
     "metadata": {
      "needs_background": "light"
     },
     "output_type": "display_data"
    },
    {
     "name": "stdout",
     "output_type": "stream",
     "text": [
      "For k = 1 ,order =2, and metric =M\n",
      "\n",
      "For sklearn KNN :\n",
      "Accuracy is : 0.75\n",
      "Predictions : [1 1 0 1 1 1 0 0 1 1 0 1 0 1 0 1]\n"
     ]
    },
    {
     "data": {
      "image/png": "[encoded data removed]",
      "text/plain": [
       "<Figure size 432x288 with 2 Axes>"
      ]
     },
     "metadata": {
      "needs_background": "light"
     },
     "output_type": "display_data"
    },
    {
     "name": "stdout",
     "output_type": "stream",
     "text": [
      "For custom KNN :\n",
      "Accuracy is : 0.75\n",
      "Predictions : [1 1 0 1 1 1 0 0 1 1 0 1 0 1 0 1]\n"
     ]
    },
    {
     "data": {
      "image/png": "[encoded data removed]",
      "text/plain": [
       "<Figure size 432x288 with 2 Axes>"
      ]
     },
     "metadata": {
      "needs_background": "light"
     },
     "output_type": "display_data"
    },
    {
     "name": "stdout",
     "output_type": "stream",
     "text": [
      "For k = 1 ,order =2, and metric =K\n",
      "\n",
      "For sklearn KNN :\n",
      "Accuracy is : 0.75\n",
      "Predictions : [1 1 0 1 1 1 0 0 1 1 0 1 0 1 0 1]\n"
     ]
    },
    {
     "data": {
      "image/png": "[encoded data removed]",
      "text/plain": [
       "<Figure size 432x288 with 2 Axes>"
      ]
     },
     "metadata": {
      "needs_background": "light"
     },
     "output_type": "display_data"
    },
    {
     "name": "stdout",
     "output_type": "stream",
     "text": [
      "For custom KNN :\n",
      "Accuracy is : 0.75\n",
      "Predictions : [1 1 0 1 1 1 0 0 1 1 0 1 0 1 0 1]\n"
     ]
    },
    {
     "data": {
      "image/png": "[encoded data removed]",
      "text/plain": [
       "<Figure size 432x288 with 2 Axes>"
      ]
     },
     "metadata": {
      "needs_background": "light"
     },
     "output_type": "display_data"
    },
    {
     "name": "stdout",
     "output_type": "stream",
     "text": [
      "For k = 2 ,order =2, and metric =M\n",
      "\n",
      "For sklearn KNN :\n",
      "Accuracy is : 0.625\n",
      "Predictions : [1 1 0 0 1 0 0 0 1 1 0 1 0 1 0 1]\n"
     ]
    },
    {
     "data": {
      "image/png": "[encoded data removed]",
      "text/plain": [
       "<Figure size 432x288 with 2 Axes>"
      ]
     },
     "metadata": {
      "needs_background": "light"
     },
     "output_type": "display_data"
    },
    {
     "name": "stdout",
     "output_type": "stream",
     "text": [
      "For custom KNN :\n",
      "Accuracy is : 0.75\n",
      "Predictions : [1 1 0 1 1 1 0 0 1 1 0 1 0 1 0 1]\n"
     ]
    },
    {
     "data": {
      "image/png": "[encoded data removed]",
      "text/plain": [
       "<Figure size 432x288 with 2 Axes>"
      ]
     },
     "metadata": {
      "needs_background": "light"
     },
     "output_type": "display_data"
    },
    {
     "name": "stdout",
     "output_type": "stream",
     "text": [
      "For k = 2 ,order =2, and metric =K\n",
      "\n",
      "For sklearn KNN :\n",
      "Accuracy is : 0.625\n",
      "Predictions : [1 1 0 0 1 0 0 0 1 1 0 1 0 1 0 1]\n"
     ]
    },
    {
     "data": {
      "image/png": "[encoded data removed]",
      "text/plain": [
       "<Figure size 432x288 with 2 Axes>"
      ]
     },
     "metadata": {
      "needs_background": "light"
     },
     "output_type": "display_data"
    },
    {
     "name": "stdout",
     "output_type": "stream",
     "text": [
      "For custom KNN :\n",
      "Accuracy is : 0.75\n",
      "Predictions : [1 1 0 1 1 1 0 0 1 1 0 1 0 1 0 1]\n"
     ]
    },
    {
     "data": {
      "image/png": "[encoded data removed]",
      "text/plain": [
       "<Figure size 432x288 with 2 Axes>"
      ]
     },
     "metadata": {
      "needs_background": "light"
     },
     "output_type": "display_data"
    },
    {
     "name": "stdout",
     "output_type": "stream",
     "text": [
      "For k = 3 ,order =2, and metric =M\n",
      "\n",
      "For sklearn KNN :\n",
      "Accuracy is : 0.875\n",
      "Predictions : [1 1 1 1 1 1 1 1 1 1 0 1 1 1 0 1]\n"
     ]
    },
    {
     "data": {
      "image/png": "[encoded data removed]",
      "text/plain": [
       "<Figure size 432x288 with 2 Axes>"
      ]
     },
     "metadata": {
      "needs_background": "light"
     },
     "output_type": "display_data"
    },
    {
     "name": "stdout",
     "output_type": "stream",
     "text": [
      "For custom KNN :\n",
      "Accuracy is : 0.875\n",
      "Predictions : [1 1 1 1 1 1 1 1 1 1 0 1 1 1 0 1]\n"
     ]
    },
    {
     "data": {
      "image/png": "[encoded data removed]",
      "text/plain": [
       "<Figure size 432x288 with 2 Axes>"
      ]
     },
     "metadata": {
      "needs_background": "light"
     },
     "output_type": "display_data"
    },
    {
     "name": "stdout",
     "output_type": "stream",
     "text": [
      "For k = 3 ,order =2, and metric =K\n",
      "\n",
      "For sklearn KNN :\n",
      "Accuracy is : 0.875\n",
      "Predictions : [1 1 1 1 1 1 1 1 1 1 0 1 1 1 0 1]\n"
     ]
    },
    {
     "data": {
      "image/png": "[encoded data removed]",
      "text/plain": [
       "<Figure size 432x288 with 2 Axes>"
      ]
     },
     "metadata": {
      "needs_background": "light"
     },
     "output_type": "display_data"
    },
    {
     "name": "stdout",
     "output_type": "stream",
     "text": [
      "For custom KNN :\n",
      "Accuracy is : 0.875\n",
      "Predictions : [1 1 1 1 1 1 1 1 1 1 0 1 1 1 0 1]\n"
     ]
    },
    {
     "data": {
      "image/png": "[encoded data removed]",
      "text/plain": [
       "<Figure size 432x288 with 2 Axes>"
      ]
     },
     "metadata": {
      "needs_background": "light"
     },
     "output_type": "display_data"
    },
    {
     "name": "stdout",
     "output_type": "stream",
     "text": [
      "For k = 4 ,order =2, and metric =M\n",
      "\n",
      "For sklearn KNN :\n",
      "Accuracy is : 0.8125\n",
      "Predictions : [1 1 1 1 1 1 1 0 1 1 0 1 1 1 0 1]\n"
     ]
    },
    {
     "data": {
      "image/png": "[encoded data removed]",
      "text/plain": [
       "<Figure size 432x288 with 2 Axes>"
      ]
     },
     "metadata": {
      "needs_background": "light"
     },
     "output_type": "display_data"
    },
    {
     "name": "stdout",
     "output_type": "stream",
     "text": [
      "For custom KNN :\n",
      "Accuracy is : 0.8125\n",
      "Predictions : [1 1 1 1 1 1 1 0 1 1 0 1 1 1 0 1]\n"
     ]
    },
    {
     "data": {
      "image/png": "[encoded data removed]",
      "text/plain": [
       "<Figure size 432x288 with 2 Axes>"
      ]
     },
     "metadata": {
      "needs_background": "light"
     },
     "output_type": "display_data"
    },
    {
     "name": "stdout",
     "output_type": "stream",
     "text": [
      "For k = 4 ,order =2, and metric =K\n",
      "\n",
      "For sklearn KNN :\n",
      "Accuracy is : 0.8125\n",
      "Predictions : [1 1 1 1 1 1 1 0 1 1 0 1 1 1 0 1]\n"
     ]
    },
    {
     "data": {
      "image/png": "[encoded data removed]",
      "text/plain": [
       "<Figure size 432x288 with 2 Axes>"
      ]
     },
     "metadata": {
      "needs_background": "light"
     },
     "output_type": "display_data"
    },
    {
     "name": "stdout",
     "output_type": "stream",
     "text": [
      "For custom KNN :\n",
      "Accuracy is : 0.8125\n",
      "Predictions : [1 1 1 1 1 1 1 0 1 1 0 1 1 1 0 1]\n"
     ]
    },
    {
     "data": {
      "image/png": "[encoded data removed]",
      "text/plain": [
       "<Figure size 432x288 with 2 Axes>"
      ]
     },
     "metadata": {
      "needs_background": "light"
     },
     "output_type": "display_data"
    },
    {
     "name": "stdout",
     "output_type": "stream",
     "text": [
      "For k = 5 ,order =2, and metric =M\n",
      "\n",
      "For sklearn KNN :\n",
      "Accuracy is : 0.8125\n",
      "Predictions : [1 1 1 1 1 1 1 1 1 1 0 1 1 1 1 1]\n"
     ]
    },
    {
     "data": {
      "image/png": "[encoded data removed]",
      "text/plain": [
       "<Figure size 432x288 with 2 Axes>"
      ]
     },
     "metadata": {
      "needs_background": "light"
     },
     "output_type": "display_data"
    },
    {
     "name": "stdout",
     "output_type": "stream",
     "text": [
      "For custom KNN :\n",
      "Accuracy is : 0.75\n",
      "Predictions : [1 1 1 1 1 1 1 0 1 1 0 1 1 1 1 1]\n"
     ]
    },
    {
     "data": {
      "image/png": "[encoded data removed]",
      "text/plain": [
       "<Figure size 432x288 with 2 Axes>"
      ]
     },
     "metadata": {
      "needs_background": "light"
     },
     "output_type": "display_data"
    },
    {
     "name": "stdout",
     "output_type": "stream",
     "text": [
      "For k = 5 ,order =2, and metric =K\n",
      "\n",
      "For sklearn KNN :\n",
      "Accuracy is : 0.75\n",
      "Predictions : [1 1 1 1 1 1 1 0 1 1 0 1 1 1 1 1]\n"
     ]
    },
    {
     "data": {
      "image/png": "[encoded data removed]",
      "text/plain": [
       "<Figure size 432x288 with 2 Axes>"
      ]
     },
     "metadata": {
      "needs_background": "light"
     },
     "output_type": "display_data"
    },
    {
     "name": "stdout",
     "output_type": "stream",
     "text": [
      "For custom KNN :\n",
      "Accuracy is : 0.75\n",
      "Predictions : [1 1 1 1 1 1 1 0 1 1 0 1 1 1 1 1]\n"
     ]
    },
    {
     "data": {
      "image/png": "[encoded data removed]",
      "text/plain": [
       "<Figure size 432x288 with 2 Axes>"
      ]
     },
     "metadata": {
      "needs_background": "light"
     },
     "output_type": "display_data"
    },
    {
     "name": "stdout",
     "output_type": "stream",
     "text": [
      "For k = 1 ,order =2, and metric =M\n",
      "\n",
      "For sklearn KNN :\n",
      "Accuracy is : 0.75\n",
      "Predictions : [1 1 0 1 1 1 0 0 1 1 0 1 0 1 0 1]\n"
     ]
    },
    {
     "data": {
      "image/png": "[encoded data removed]",
      "text/plain": [
       "<Figure size 432x288 with 2 Axes>"
      ]
     },
     "metadata": {
      "needs_background": "light"
     },
     "output_type": "display_data"
    },
    {
     "name": "stdout",
     "output_type": "stream",
     "text": [
      "For custom KNN :\n",
      "Accuracy is : 0.75\n",
      "Predictions : [1 1 0 1 1 1 0 0 1 1 0 1 0 1 0 1]\n"
     ]
    },
    {
     "data": {
      "image/png": "[encoded data removed]",
      "text/plain": [
       "<Figure size 432x288 with 2 Axes>"
      ]
     },
     "metadata": {
      "needs_background": "light"
     },
     "output_type": "display_data"
    },
    {
     "name": "stdout",
     "output_type": "stream",
     "text": [
      "For k = 1 ,order =2, and metric =K\n",
      "\n",
      "For sklearn KNN :\n",
      "Accuracy is : 0.75\n",
      "Predictions : [1 1 0 1 1 1 0 0 1 1 0 1 0 1 0 1]\n"
     ]
    },
    {
     "data": {
      "image/png": "[encoded data removed]",
      "text/plain": [
       "<Figure size 432x288 with 2 Axes>"
      ]
     },
     "metadata": {
      "needs_background": "light"
     },
     "output_type": "display_data"
    },
    {
     "name": "stdout",
     "output_type": "stream",
     "text": [
      "For custom KNN :\n",
      "Accuracy is : 0.75\n",
      "Predictions : [1 1 0 1 1 1 0 0 1 1 0 1 0 1 0 1]\n"
     ]
    },
    {
     "data": {
      "image/png": "[encoded data removed]",
      "text/plain": [
       "<Figure size 432x288 with 2 Axes>"
      ]
     },
     "metadata": {
      "needs_background": "light"
     },
     "output_type": "display_data"
    },
    {
     "name": "stdout",
     "output_type": "stream",
     "text": [
      "For k = 2 ,order =2, and metric =M\n",
      "\n",
      "For sklearn KNN :\n",
      "Accuracy is : 0.625\n",
      "Predictions : [1 1 0 0 1 0 0 0 1 1 0 1 0 1 0 1]\n"
     ]
    },
    {
     "data": {
      "image/png": "[encoded data removed]",
      "text/plain": [
       "<Figure size 432x288 with 2 Axes>"
      ]
     },
     "metadata": {
      "needs_background": "light"
     },
     "output_type": "display_data"
    },
    {
     "name": "stdout",
     "output_type": "stream",
     "text": [
      "For custom KNN :\n",
      "Accuracy is : 0.75\n",
      "Predictions : [1 1 0 1 1 1 0 0 1 1 0 1 0 1 0 1]\n"
     ]
    },
    {
     "data": {
      "image/png": "[encoded data removed]",
      "text/plain": [
       "<Figure size 432x288 with 2 Axes>"
      ]
     },
     "metadata": {
      "needs_background": "light"
     },
     "output_type": "display_data"
    },
    {
     "name": "stdout",
     "output_type": "stream",
     "text": [
      "For k = 2 ,order =2, and metric =K\n",
      "\n",
      "For sklearn KNN :\n",
      "Accuracy is : 0.625\n",
      "Predictions : [1 1 0 0 1 0 0 0 1 1 0 1 0 1 0 1]\n"
     ]
    },
    {
     "data": {
      "image/png": "[encoded data removed]",
      "text/plain": [
       "<Figure size 432x288 with 2 Axes>"
      ]
     },
     "metadata": {
      "needs_background": "light"
     },
     "output_type": "display_data"
    },
    {
     "name": "stdout",
     "output_type": "stream",
     "text": [
      "For custom KNN :\n",
      "Accuracy is : 0.75\n",
      "Predictions : [1 1 0 1 1 1 0 0 1 1 0 1 0 1 0 1]\n"
     ]
    },
    {
     "data": {
      "image/png": "[encoded data removed]",
      "text/plain": [
       "<Figure size 432x288 with 2 Axes>"
      ]
     },
     "metadata": {
      "needs_background": "light"
     },
     "output_type": "display_data"
    },
    {
     "name": "stdout",
     "output_type": "stream",
     "text": [
      "For k = 3 ,order =2, and metric =M\n",
      "\n",
      "For sklearn KNN :\n",
      "Accuracy is : 0.875\n",
      "Predictions : [1 1 1 1 1 1 1 1 1 1 0 1 1 1 0 1]\n"
     ]
    },
    {
     "data": {
      "image/png": "[encoded data removed]",
      "text/plain": [
       "<Figure size 432x288 with 2 Axes>"
      ]
     },
     "metadata": {
      "needs_background": "light"
     },
     "output_type": "display_data"
    },
    {
     "name": "stdout",
     "output_type": "stream",
     "text": [
      "For custom KNN :\n",
      "Accuracy is : 0.875\n",
      "Predictions : [1 1 1 1 1 1 1 1 1 1 0 1 1 1 0 1]\n"
     ]
    },
    {
     "data": {
      "image/png": "[encoded data removed]",
      "text/plain": [
       "<Figure size 432x288 with 2 Axes>"
      ]
     },
     "metadata": {
      "needs_background": "light"
     },
     "output_type": "display_data"
    },
    {
     "name": "stdout",
     "output_type": "stream",
     "text": [
      "For k = 3 ,order =2, and metric =K\n",
      "\n",
      "For sklearn KNN :\n",
      "Accuracy is : 0.875\n",
      "Predictions : [1 1 1 1 1 1 1 1 1 1 0 1 1 1 0 1]\n"
     ]
    },
    {
     "data": {
      "image/png": "[encoded data removed]",
      "text/plain": [
       "<Figure size 432x288 with 2 Axes>"
      ]
     },
     "metadata": {
      "needs_background": "light"
     },
     "output_type": "display_data"
    },
    {
     "name": "stdout",
     "output_type": "stream",
     "text": [
      "For custom KNN :\n",
      "Accuracy is : 0.875\n",
      "Predictions : [1 1 1 1 1 1 1 1 1 1 0 1 1 1 0 1]\n"
     ]
    },
    {
     "data": {
      "image/png": "[encoded data removed]",
      "text/plain": [
       "<Figure size 432x288 with 2 Axes>"
      ]
     },
     "metadata": {
      "needs_background": "light"
     },
     "output_type": "display_data"
    },
    {
     "name": "stdout",
     "output_type": "stream",
     "text": [
      "For k = 4 ,order =2, and metric =M\n",
      "\n",
      "For sklearn KNN :\n",
      "Accuracy is : 0.8125\n",
      "Predictions : [1 1 1 1 1 1 1 0 1 1 0 1 1 1 0 1]\n"
     ]
    },
    {
     "data": {
      "image/png": "[encoded data removed]",
      "text/plain": [
       "<Figure size 432x288 with 2 Axes>"
      ]
     },
     "metadata": {
      "needs_background": "light"
     },
     "output_type": "display_data"
    },
    {
     "name": "stdout",
     "output_type": "stream",
     "text": [
      "For custom KNN :\n",
      "Accuracy is : 0.8125\n",
      "Predictions : [1 1 1 1 1 1 1 0 1 1 0 1 1 1 0 1]\n"
     ]
    },
    {
     "data": {
      "image/png": "[encoded data removed]",
      "text/plain": [
       "<Figure size 432x288 with 2 Axes>"
      ]
     },
     "metadata": {
      "needs_background": "light"
     },
     "output_type": "display_data"
    },
    {
     "name": "stdout",
     "output_type": "stream",
     "text": [
      "For k = 4 ,order =2, and metric =K\n",
      "\n",
      "For sklearn KNN :\n",
      "Accuracy is : 0.8125\n",
      "Predictions : [1 1 1 1 1 1 1 0 1 1 0 1 1 1 0 1]\n"
     ]
    },
    {
     "data": {
      "image/png": "[encoded data removed]",
      "text/plain": [
       "<Figure size 432x288 with 2 Axes>"
      ]
     },
     "metadata": {
      "needs_background": "light"
     },
     "output_type": "display_data"
    },
    {
     "name": "stdout",
     "output_type": "stream",
     "text": [
      "For custom KNN :\n",
      "Accuracy is : 0.8125\n",
      "Predictions : [1 1 1 1 1 1 1 0 1 1 0 1 1 1 0 1]\n"
     ]
    },
    {
     "data": {
      "image/png": "[encoded data removed]",
      "text/plain": [
       "<Figure size 432x288 with 2 Axes>"
      ]
     },
     "metadata": {
      "needs_background": "light"
     },
     "output_type": "display_data"
    },
    {
     "name": "stdout",
     "output_type": "stream",
     "text": [
      "For k = 5 ,order =2, and metric =M\n",
      "\n",
      "For sklearn KNN :\n",
      "Accuracy is : 0.8125\n",
      "Predictions : [1 1 1 1 1 1 1 1 1 1 0 1 1 1 1 1]\n"
     ]
    },
    {
     "data": {
      "image/png": "[encoded data removed]",
      "text/plain": [
       "<Figure size 432x288 with 2 Axes>"
      ]
     },
     "metadata": {
      "needs_background": "light"
     },
     "output_type": "display_data"
    },
    {
     "name": "stdout",
     "output_type": "stream",
     "text": [
      "For custom KNN :\n",
      "Accuracy is : 0.75\n",
      "Predictions : [1 1 1 1 1 1 1 0 1 1 0 1 1 1 1 1]\n"
     ]
    },
    {
     "data": {
      "image/png": "[encoded data removed]",
      "text/plain": [
       "<Figure size 432x288 with 2 Axes>"
      ]
     },
     "metadata": {
      "needs_background": "light"
     },
     "output_type": "display_data"
    },
    {
     "name": "stdout",
     "output_type": "stream",
     "text": [
      "For k = 5 ,order =2, and metric =K\n",
      "\n",
      "For sklearn KNN :\n",
      "Accuracy is : 0.75\n",
      "Predictions : [1 1 1 1 1 1 1 0 1 1 0 1 1 1 1 1]\n"
     ]
    },
    {
     "data": {
      "image/png": "[encoded data removed]",
      "text/plain": [
       "<Figure size 432x288 with 2 Axes>"
      ]
     },
     "metadata": {
      "needs_background": "light"
     },
     "output_type": "display_data"
    },
    {
     "name": "stdout",
     "output_type": "stream",
     "text": [
      "For custom KNN :\n",
      "Accuracy is : 0.75\n",
      "Predictions : [1 1 1 1 1 1 1 0 1 1 0 1 1 1 1 1]\n"
     ]
    },
    {
     "data": {
      "image/png": "[encoded data removed]",
      "text/plain": [
       "<Figure size 432x288 with 2 Axes>"
      ]
     },
     "metadata": {
      "needs_background": "light"
     },
     "output_type": "display_data"
    },
    {
     "name": "stdout",
     "output_type": "stream",
     "text": [
      "For k = 1 ,order =2, and metric =M\n",
      "\n",
      "For sklearn KNN :\n",
      "Accuracy is : 0.75\n",
      "Predictions : [1 1 0 1 1 1 0 0 1 1 0 1 0 1 0 1]\n"
     ]
    },
    {
     "data": {
      "image/png": "[encoded data removed]",
      "text/plain": [
       "<Figure size 432x288 with 2 Axes>"
      ]
     },
     "metadata": {
      "needs_background": "light"
     },
     "output_type": "display_data"
    },
    {
     "name": "stdout",
     "output_type": "stream",
     "text": [
      "For custom KNN :\n",
      "Accuracy is : 0.75\n",
      "Predictions : [1 1 0 1 1 1 0 0 1 1 0 1 0 1 0 1]\n"
     ]
    },
    {
     "data": {
      "image/png": "[encoded data removed]",
      "text/plain": [
       "<Figure size 432x288 with 2 Axes>"
      ]
     },
     "metadata": {
      "needs_background": "light"
     },
     "output_type": "display_data"
    },
    {
     "name": "stdout",
     "output_type": "stream",
     "text": [
      "For k = 1 ,order =2, and metric =K\n",
      "\n",
      "For sklearn KNN :\n",
      "Accuracy is : 0.75\n",
      "Predictions : [1 1 0 1 1 1 0 0 1 1 0 1 0 1 0 1]\n"
     ]
    },
    {
     "data": {
      "image/png": "[encoded data removed]",
      "text/plain": [
       "<Figure size 432x288 with 2 Axes>"
      ]
     },
     "metadata": {
      "needs_background": "light"
     },
     "output_type": "display_data"
    },
    {
     "name": "stdout",
     "output_type": "stream",
     "text": [
      "For custom KNN :\n",
      "Accuracy is : 0.75\n",
      "Predictions : [1 1 0 1 1 1 0 0 1 1 0 1 0 1 0 1]\n"
     ]
    },
    {
     "data": {
      "image/png": "[encoded data removed]",
      "text/plain": [
       "<Figure size 432x288 with 2 Axes>"
      ]
     },
     "metadata": {
      "needs_background": "light"
     },
     "output_type": "display_data"
    },
    {
     "name": "stdout",
     "output_type": "stream",
     "text": [
      "For k = 2 ,order =2, and metric =M\n",
      "\n",
      "For sklearn KNN :\n",
      "Accuracy is : 0.625\n",
      "Predictions : [1 1 0 0 1 0 0 0 1 1 0 1 0 1 0 1]\n"
     ]
    },
    {
     "data": {
      "image/png": "[encoded data removed]",
      "text/plain": [
       "<Figure size 432x288 with 2 Axes>"
      ]
     },
     "metadata": {
      "needs_background": "light"
     },
     "output_type": "display_data"
    },
    {
     "name": "stdout",
     "output_type": "stream",
     "text": [
      "For custom KNN :\n",
      "Accuracy is : 0.75\n",
      "Predictions : [1 1 0 1 1 1 0 0 1 1 0 1 0 1 0 1]\n"
     ]
    },
    {
     "data": {
      "image/png": "[encoded data removed]",
      "text/plain": [
       "<Figure size 432x288 with 2 Axes>"
      ]
     },
     "metadata": {
      "needs_background": "light"
     },
     "output_type": "display_data"
    },
    {
     "name": "stdout",
     "output_type": "stream",
     "text": [
      "For k = 2 ,order =2, and metric =K\n",
      "\n",
      "For sklearn KNN :\n",
      "Accuracy is : 0.625\n",
      "Predictions : [1 1 0 0 1 0 0 0 1 1 0 1 0 1 0 1]\n"
     ]
    },
    {
     "data": {
      "image/png": "[encoded data removed]",
      "text/plain": [
       "<Figure size 432x288 with 2 Axes>"
      ]
     },
     "metadata": {
      "needs_background": "light"
     },
     "output_type": "display_data"
    },
    {
     "name": "stdout",
     "output_type": "stream",
     "text": [
      "For custom KNN :\n",
      "Accuracy is : 0.75\n",
      "Predictions : [1 1 0 1 1 1 0 0 1 1 0 1 0 1 0 1]\n"
     ]
    },
    {
     "data": {
      "image/png": "[encoded data removed]",
      "text/plain": [
       "<Figure size 432x288 with 2 Axes>"
      ]
     },
     "metadata": {
      "needs_background": "light"
     },
     "output_type": "display_data"
    },
    {
     "name": "stdout",
     "output_type": "stream",
     "text": [
      "For k = 3 ,order =2, and metric =M\n",
      "\n",
      "For sklearn KNN :\n",
      "Accuracy is : 0.875\n",
      "Predictions : [1 1 1 1 1 1 1 1 1 1 0 1 1 1 0 1]\n"
     ]
    },
    {
     "data": {
      "image/png": "[encoded data removed]",
      "text/plain": [
       "<Figure size 432x288 with 2 Axes>"
      ]
     },
     "metadata": {
      "needs_background": "light"
     },
     "output_type": "display_data"
    },
    {
     "name": "stdout",
     "output_type": "stream",
     "text": [
      "For custom KNN :\n",
      "Accuracy is : 0.875\n",
      "Predictions : [1 1 1 1 1 1 1 1 1 1 0 1 1 1 0 1]\n"
     ]
    },
    {
     "data": {
      "image/png": "[encoded data removed]",
      "text/plain": [
       "<Figure size 432x288 with 2 Axes>"
      ]
     },
     "metadata": {
      "needs_background": "light"
     },
     "output_type": "display_data"
    },
    {
     "name": "stdout",
     "output_type": "stream",
     "text": [
      "For k = 3 ,order =2, and metric =K\n",
      "\n",
      "For sklearn KNN :\n",
      "Accuracy is : 0.875\n",
      "Predictions : [1 1 1 1 1 1 1 1 1 1 0 1 1 1 0 1]\n"
     ]
    },
    {
     "data": {
      "image/png": "[encoded data removed]",
      "text/plain": [
       "<Figure size 432x288 with 2 Axes>"
      ]
     },
     "metadata": {
      "needs_background": "light"
     },
     "output_type": "display_data"
    },
    {
     "name": "stdout",
     "output_type": "stream",
     "text": [
      "For custom KNN :\n",
      "Accuracy is : 0.875\n",
      "Predictions : [1 1 1 1 1 1 1 1 1 1 0 1 1 1 0 1]\n"
     ]
    },
    {
     "data": {
      "image/png": "[encoded data removed]",
      "text/plain": [
       "<Figure size 432x288 with 2 Axes>"
      ]
     },
     "metadata": {
      "needs_background": "light"
     },
     "output_type": "display_data"
    },
    {
     "name": "stdout",
     "output_type": "stream",
     "text": [
      "For k = 4 ,order =2, and metric =M\n",
      "\n",
      "For sklearn KNN :\n",
      "Accuracy is : 0.8125\n",
      "Predictions : [1 1 1 1 1 1 1 0 1 1 0 1 1 1 0 1]\n"
     ]
    },
    {
     "data": {
      "image/png": "[encoded data removed]",
      "text/plain": [
       "<Figure size 432x288 with 2 Axes>"
      ]
     },
     "metadata": {
      "needs_background": "light"
     },
     "output_type": "display_data"
    },
    {
     "name": "stdout",
     "output_type": "stream",
     "text": [
      "For custom KNN :\n",
      "Accuracy is : 0.8125\n",
      "Predictions : [1 1 1 1 1 1 1 0 1 1 0 1 1 1 0 1]\n"
     ]
    },
    {
     "data": {
      "image/png": "[encoded data removed]",
      "text/plain": [
       "<Figure size 432x288 with 2 Axes>"
      ]
     },
     "metadata": {
      "needs_background": "light"
     },
     "output_type": "display_data"
    },
    {
     "name": "stdout",
     "output_type": "stream",
     "text": [
      "For k = 4 ,order =2, and metric =K\n",
      "\n",
      "For sklearn KNN :\n",
      "Accuracy is : 0.8125\n",
      "Predictions : [1 1 1 1 1 1 1 0 1 1 0 1 1 1 0 1]\n"
     ]
    },
    {
     "data": {
      "image/png": "[encoded data removed]",
      "text/plain": [
       "<Figure size 432x288 with 2 Axes>"
      ]
     },
     "metadata": {
      "needs_background": "light"
     },
     "output_type": "display_data"
    },
    {
     "name": "stdout",
     "output_type": "stream",
     "text": [
      "For custom KNN :\n",
      "Accuracy is : 0.8125\n",
      "Predictions : [1 1 1 1 1 1 1 0 1 1 0 1 1 1 0 1]\n"
     ]
    },
    {
     "data": {
      "image/png": "[encoded data removed]",
      "text/plain": [
       "<Figure size 432x288 with 2 Axes>"
      ]
     },
     "metadata": {
      "needs_background": "light"
     },
     "output_type": "display_data"
    },
    {
     "name": "stdout",
     "output_type": "stream",
     "text": [
      "For k = 5 ,order =2, and metric =M\n",
      "\n",
      "For sklearn KNN :\n",
      "Accuracy is : 0.8125\n",
      "Predictions : [1 1 1 1 1 1 1 1 1 1 0 1 1 1 1 1]\n"
     ]
    },
    {
     "data": {
      "image/png": "[encoded data removed]",
      "text/plain": [
       "<Figure size 432x288 with 2 Axes>"
      ]
     },
     "metadata": {
      "needs_background": "light"
     },
     "output_type": "display_data"
    },
    {
     "name": "stdout",
     "output_type": "stream",
     "text": [
      "For custom KNN :\n",
      "Accuracy is : 0.75\n",
      "Predictions : [1 1 1 1 1 1 1 0 1 1 0 1 1 1 1 1]\n"
     ]
    },
    {
     "data": {
      "image/png": "[encoded data removed]",
      "text/plain": [
       "<Figure size 432x288 with 2 Axes>"
      ]
     },
     "metadata": {
      "needs_background": "light"
     },
     "output_type": "display_data"
    },
    {
     "name": "stdout",
     "output_type": "stream",
     "text": [
      "For k = 5 ,order =2, and metric =K\n",
      "\n",
      "For sklearn KNN :\n",
      "Accuracy is : 0.75\n",
      "Predictions : [1 1 1 1 1 1 1 0 1 1 0 1 1 1 1 1]\n"
     ]
    },
    {
     "data": {
      "image/png": "[encoded data removed]",
      "text/plain": [
       "<Figure size 432x288 with 2 Axes>"
      ]
     },
     "metadata": {
      "needs_background": "light"
     },
     "output_type": "display_data"
    },
    {
     "name": "stdout",
     "output_type": "stream",
     "text": [
      "For custom KNN :\n",
      "Accuracy is : 0.75\n",
      "Predictions : [1 1 1 1 1 1 1 0 1 1 0 1 1 1 1 1]\n"
     ]
    },
    {
     "data": {
      "image/png": "[encoded data removed]",
      "text/plain": [
       "<Figure size 432x288 with 2 Axes>"
      ]
     },
     "metadata": {
      "needs_background": "light"
     },
     "output_type": "display_data"
    }
   ],
   "source": [
    "orders=list(range(1,6))\n",
    "valuesk=list(range(1,6))\n",
    "metrics=[\"M\",\"K\"]\n",
    "all_hyperparameters = [\n",
    "    (order, k, metric)\n",
    "    for order in orders\n",
    "    for k in valuesk\n",
    "    for metric in metrics\n",
    "    \n",
    "]\n",
    "df4=pd.read_csv(\"ClassData.csv\")\n",
    "df4.drop(\"Experience(Months)\",axis=1,inplace=True)\n",
    "df4['Gender(M/F)']=df4['Gender(M/F)'].map({\"M\":1,\"F\":0})\n",
    "\n",
    "X=df4.drop(\"Gender(M/F)\",axis=1)\n",
    "Y=df4['Gender(M/F)']\n",
    "X_train,X_test,Y_train,Y_test=train_test_split(X,Y,test_size=0.2,random_state=42)\n",
    "\n",
    "print(\"For different values of K, the comparison between KNN from sklearn and KNN from scratch is as follows :\")\n",
    "print()\n",
    "for order,k,metric in all_hyperparameters:\n",
    "    \n",
    "    \n",
    "    \n",
    "    knn_model = CustomKNN(k=k, metric=metric, p=order)\n",
    "    knn_model.fit(np.array(X_train), np.array(Y_train))\n",
    "      \n",
    "    if metric==\"C\":\n",
    "    \n",
    "        knn=KNeighborsClassifier(n_neighbors=k,p=order,metric=\"cartesian\")\n",
    "        knn.fit(X_train,Y_train)\n",
    "    elif metric==\"K\":\n",
    "    \n",
    "        knn=KNeighborsClassifier(n_neighbors=k,p=order,metric=\"minkowski\")\n",
    "        knn.fit(X_train,Y_train)\n",
    "    elif metric==\"M\":\n",
    "    \n",
    "        knn=KNeighborsClassifier(n_neighbors=k,p=order,metric=\"manhattan\")\n",
    "        knn.fit(X_train,Y_train)\n",
    "    \n",
    "    \n",
    "    \n",
    "    print(f\"For k = {k} ,order = {p}, and metric = {metric}\")\n",
    "    print()\n",
    "    print(\"For sklearn KNN :\")\n",
    "    print(\"Accuracy is :\",knn.score(X_test,Y_test))\n",
    "    print(\"Predictions :\",knn.predict(X_test))\n",
    "    cm = confusion_matrix(y_true=Y_test, y_pred=knn.predict(X_test), labels=knn.classes_)\n",
    "    disp = ConfusionMatrixDisplay(confusion_matrix=cm,display_labels=knn.classes_)\n",
    "    disp.plot()\n",
    "    plt.show()\n",
    "    \n",
    "    \n",
    "    \n",
    "    \n",
    "    \n",
    "    print(\"For custom KNN :\")\n",
    "    Y_pred = np.array(knn_model.predict(np.array(X_test)))\n",
    "    Y_test=np.array(Y_test)\n",
    "    \n",
    "    print(\"Accuracy is :\",accuracy(Y_pred,Y_test))\n",
    "    print(\"Predictions :\",Y_pred)\n",
    "    cm = confusion_matrix(y_true=Y_test, y_pred= Y_pred,labels=[0,1])\n",
    "    disp = ConfusionMatrixDisplay(confusion_matrix=cm,display_labels=[0,1])\n",
    "    disp.plot()\n",
    "    plt.show()\n",
    "    \n",
    "    \n",
    "    "
   ]
  },
  {
   "cell_type": "code",
   "execution_count": null,
   "id": "1895071c",
   "metadata": {},
   "outputs": [],
   "source": []
  }
 ],
 "metadata": {
  "kernelspec": {
   "display_name": "Python 3 (ipykernel)",
   "language": "python",
   "name": "python3"
  },
  "language_info": {
   "codemirror_mode": {
    "name": "ipython",
    "version": 3
   },
   "file_extension": ".py",
   "mimetype": "text/x-python",
   "name": "python",
   "nbconvert_exporter": "python",
   "pygments_lexer": "ipython3",
   "version": "3.9.7"
  }
 },
 "nbformat": 4,
 "nbformat_minor": 5
}
